{
 "cells": [
  {
   "attachments": {},
   "cell_type": "markdown",
   "metadata": {},
   "source": [
    "# **Expectation-Maximization algorithm** (hidden model)\n",
    "### Author: Martí Cortada Garcia\n",
    "---"
   ]
  },
  {
   "cell_type": "code",
   "execution_count": 7,
   "metadata": {},
   "outputs": [],
   "source": [
    "# Import required libraries\n",
    "import numpy as np\n",
    "from Bio import SeqIO, Phylo\n",
    "from io import StringIO\n",
    "from collections import Counter, OrderedDict\n",
    "import itertools\n",
    "import pandas as pd\n",
    "import math\n",
    "import copy\n",
    "\n",
    "# Import required functions from modules we have programmed\n",
    "from data_simulation import simulate"
   ]
  },
  {
   "attachments": {},
   "cell_type": "markdown",
   "metadata": {},
   "source": [
    "### **Input:**\n",
    "We have a tree $T$ (where the root corresponds to the internal node codified as `Int_0`) and the alignments of the leaves."
   ]
  },
  {
   "cell_type": "code",
   "execution_count": 16,
   "metadata": {},
   "outputs": [
    {
     "data": {
      "image/png": "[encoded data removed]",
      "text/plain": [
       "<Figure size 640x480 with 1 Axes>"
      ]
     },
     "metadata": {},
     "output_type": "display_data"
    }
   ],
   "source": [
    "newick_tree = open(\"./newick.txt\", \"r\")\n",
    "newick = newick_tree.read()\n",
    "newick_tree.close()\n",
    "tree = Phylo.read(StringIO(newick), \"newick\")\n",
    "\n",
    "# Change nodes names\n",
    "for idx, clade in enumerate(tree.get_nonterminals()):\n",
    "    clade.name = \"Int_\" + str(idx) if idx > 0 else \"Int_0\" \n",
    "\n",
    "# Change leaves names\n",
    "for idx, clade in enumerate(tree.get_terminals()):\n",
    "    clade.name = \"Leaf_\" + clade.name \n",
    "\n",
    "Phylo.draw(tree)\n",
    "\n",
    "net = Phylo.to_networkx(tree) # to graph"
   ]
  },
  {
   "cell_type": "code",
   "execution_count": 13,
   "metadata": {},
   "outputs": [
    {
     "name": "stdout",
     "output_type": "stream",
     "text": [
      "Edge: (Clade(name='Int_0'), Clade(branch_length=1.0, name='Leaf_2'))\n",
      "Transition matrix: [[0.64642183 0.02803076 0.27483013 0.05071728]\n",
      " [0.03848122 0.7757021  0.10189982 0.08391686]\n",
      " [0.03184807 0.07934462 0.82109495 0.06771236]\n",
      " [0.04702478 0.01879095 0.04076404 0.89342023]]\n",
      "------------------------------------------------------------------------------------------\n",
      "Edge: (Clade(name='Int_0'), Clade(branch_length=1.0, name='Leaf_3'))\n",
      "Transition matrix: [[0.55850753 0.13612552 0.2499751  0.05539185]\n",
      " [0.01791204 0.82605787 0.05907209 0.096958  ]\n",
      " [0.04534628 0.008074   0.85149918 0.09508054]\n",
      " [0.00646156 0.06355415 0.02348564 0.90649866]]\n",
      "------------------------------------------------------------------------------------------\n",
      "Edge: (Clade(name='Int_0'), Clade(branch_length=1.0, name='Int_1'))\n",
      "Transition matrix: [[0.75152183 0.09827146 0.07355421 0.0766525 ]\n",
      " [0.04888819 0.86735324 0.02989229 0.05386628]\n",
      " [0.05446854 0.02450495 0.75018255 0.17084396]\n",
      " [0.12039713 0.03979299 0.05715314 0.78265675]]\n",
      "------------------------------------------------------------------------------------------\n",
      "Edge: (Clade(branch_length=1.0, name='Int_1'), Clade(branch_length=1.0, name='Leaf_4'))\n",
      "Transition matrix: [[0.82835309 0.03976936 0.05146899 0.08040856]\n",
      " [0.02327998 0.80873654 0.06043788 0.10754561]\n",
      " [0.11544022 0.13895831 0.71027209 0.03532938]\n",
      " [0.09988558 0.08065349 0.01737091 0.80209001]]\n",
      "------------------------------------------------------------------------------------------\n",
      "Edge: (Clade(branch_length=1.0, name='Int_1'), Clade(branch_length=1.0, name='Leaf_5'))\n",
      "Transition matrix: [[0.78296278 0.06942125 0.08171685 0.06589912]\n",
      " [0.02166725 0.83743552 0.01932756 0.12156967]\n",
      " [0.11182788 0.03378373 0.78484422 0.06954417]\n",
      " [0.11063295 0.0881492  0.0495941  0.75162375]]\n",
      "------------------------------------------------------------------------------------------\n",
      "Root distribution: [0.23195748 0.24737645 0.23524372 0.28542235]\n"
     ]
    },
    {
     "data": {
      "text/plain": [
       "0.6464218290229772"
      ]
     },
     "execution_count": 13,
     "metadata": {},
     "output_type": "execute_result"
    }
   ],
   "source": [
    "# Check the theoretical parameters:\n",
    "theoretical_matrices = dict()\n",
    "for i in range(len(edges)):\n",
    "    print(\"Edge:\", edges[i].edge)\n",
    "    u = edges[i].edge[0].name.split(\"_\")[1]\n",
    "    v = edges[i].edge[1].name.split(\"_\")[1]\n",
    "    matrix_name = \"M_\" + u + \"_to_\" + v\n",
    "    print(\"Transition matrix:\", edges[i].transition_matrix)\n",
    "    theoretical_matrices[matrix_name] = np.array(edges[i].transition_matrix)\n",
    "    print(\"---\"*30)\n",
    "\n",
    "print(\"Root distribution:\", node_distr['Int_0'])"
   ]
  },
  {
   "cell_type": "code",
   "execution_count": 18,
   "metadata": {},
   "outputs": [
    {
     "name": "stdout",
     "output_type": "stream",
     "text": [
      "{'M_0_to_2': array([[0.64642183, 0.02803076, 0.27483013, 0.05071728],\n",
      "       [0.03848122, 0.7757021 , 0.10189982, 0.08391686],\n",
      "       [0.03184807, 0.07934462, 0.82109495, 0.06771236],\n",
      "       [0.04702478, 0.01879095, 0.04076404, 0.89342023]]), 'M_0_to_3': array([[0.55850753, 0.13612552, 0.2499751 , 0.05539185],\n",
      "       [0.01791204, 0.82605787, 0.05907209, 0.096958  ],\n",
      "       [0.04534628, 0.008074  , 0.85149918, 0.09508054],\n",
      "       [0.00646156, 0.06355415, 0.02348564, 0.90649866]]), 'M_0_to_1': array([[0.75152183, 0.09827146, 0.07355421, 0.0766525 ],\n",
      "       [0.04888819, 0.86735324, 0.02989229, 0.05386628],\n",
      "       [0.05446854, 0.02450495, 0.75018255, 0.17084396],\n",
      "       [0.12039713, 0.03979299, 0.05715314, 0.78265675]]), 'M_1_to_4': array([[0.82835309, 0.03976936, 0.05146899, 0.08040856],\n",
      "       [0.02327998, 0.80873654, 0.06043788, 0.10754561],\n",
      "       [0.11544022, 0.13895831, 0.71027209, 0.03532938],\n",
      "       [0.09988558, 0.08065349, 0.01737091, 0.80209001]]), 'M_1_to_5': array([[0.78296278, 0.06942125, 0.08171685, 0.06589912],\n",
      "       [0.02166725, 0.83743552, 0.01932756, 0.12156967],\n",
      "       [0.11182788, 0.03378373, 0.78484422, 0.06954417],\n",
      "       [0.11063295, 0.0881492 , 0.0495941 , 0.75162375]])}\n"
     ]
    }
   ],
   "source": [
    "# # save the dictionary to a file\n",
    "# np.save('data.npy', theoretical_matrices)\n",
    "# # load the dictionary from the file\n",
    "# loaded_dict = np.load('data.npy', allow_pickle=True).item()\n",
    "# # print the loaded dictionary\n",
    "# print(loaded_dict)"
   ]
  },
  {
   "cell_type": "code",
   "execution_count": 19,
   "metadata": {},
   "outputs": [
    {
     "name": "stdout",
     "output_type": "stream",
     "text": [
      "M_0_to_2\n",
      "Edge: (Clade(name='Int_0'), Clade(branch_length=1.0, name='Leaf_2'))\n",
      "Transition matrix:\n",
      " [[0.86753892 0.05213542 0.06946348 0.01086218]\n",
      " [0.08065343 0.85671968 0.04982893 0.01279796]\n",
      " [0.11219846 0.17464684 0.65461785 0.05853685]\n",
      " [0.02775028 0.08494961 0.04088151 0.8464186 ]]\n",
      "------------------------------------------------------------------------------------------\n",
      "M_0_to_3\n",
      "Edge: (Clade(name='Int_0'), Clade(branch_length=1.0, name='Leaf_3'))\n",
      "Transition matrix:\n",
      " [[0.75527498 0.04249873 0.00019955 0.20202674]\n",
      " [0.10446698 0.73349645 0.10777451 0.05426206]\n",
      " [0.009178   0.09167603 0.88105832 0.01808765]\n",
      " [0.10672648 0.08298123 0.01949473 0.79079756]]\n",
      "------------------------------------------------------------------------------------------\n",
      "M_0_to_1\n",
      "Edge: (Clade(name='Int_0'), Clade(branch_length=1.0, name='Int_1'))\n",
      "Transition matrix:\n",
      " [[0.69009493 0.15321495 0.12518281 0.03150731]\n",
      " [0.03390489 0.89612499 0.03748613 0.032484  ]\n",
      " [0.13612944 0.00355591 0.86031238 0.00000227]\n",
      " [0.13829849 0.07169377 0.04358193 0.74642581]]\n",
      "------------------------------------------------------------------------------------------\n",
      "M_1_to_4\n",
      "Edge: (Clade(branch_length=1.0, name='Int_1'), Clade(branch_length=1.0, name='Leaf_4'))\n",
      "Transition matrix:\n",
      " [[0.79787321 0.09123409 0.0748348  0.0360579 ]\n",
      " [0.1525167  0.62670853 0.12700414 0.09377063]\n",
      " [0.06182208 0.09423139 0.82703856 0.01690797]\n",
      " [0.09434814 0.05487633 0.01727208 0.83350345]]\n",
      "------------------------------------------------------------------------------------------\n",
      "M_1_to_5\n",
      "Edge: (Clade(branch_length=1.0, name='Int_1'), Clade(branch_length=1.0, name='Leaf_5'))\n",
      "Transition matrix:\n",
      " [[0.77670263 0.03884329 0.11981174 0.06464234]\n",
      " [0.07306013 0.6964252  0.14381485 0.08669983]\n",
      " [0.0001472  0.02174493 0.93060026 0.04750762]\n",
      " [0.01290462 0.10677068 0.06826479 0.81205991]]\n",
      "------------------------------------------------------------------------------------------\n",
      "Root distribution: [0.23508015 0.26506847 0.26101933 0.23983305]\n"
     ]
    }
   ],
   "source": [
    "# Check the estimated parameters:\n",
    "for i in params.items():\n",
    "    print(i[0])\n",
    "    print(\"Edge:\", i[1].edge)\n",
    "    print(\"Transition matrix:\\n\", i[1].transition_matrix)\n",
    "    print(\"---\"*30)\n",
    "\n",
    "print(\"Root distribution:\", root_distr)"
   ]
  },
  {
   "cell_type": "code",
   "execution_count": 20,
   "metadata": {},
   "outputs": [
    {
     "name": "stdout",
     "output_type": "stream",
     "text": [
      "Edge: (Clade(name='Int_0'), Clade(branch_length=1.0, name='Leaf_2'))\n",
      "Transition matrix difference:\n",
      " [[0.09960865 0.07093256 0.00498621 0.03366231]\n",
      " [0.01576357 0.02703813 0.00892483 0.03387688]\n",
      " [0.00533819 0.03058066 0.01301418 0.01222828]\n",
      " [0.00504287 0.04282721 0.00457214 0.05244223]]\n",
      "------------------------------------------------------------------------------------------\n",
      "Edge: (Clade(name='Int_0'), Clade(branch_length=1.0, name='Leaf_3'))\n",
      "Transition matrix difference:\n",
      " [[0.00386991 0.01431933 0.0324696  0.04291902]\n",
      " [0.03240956 0.00438465 0.00578344 0.03101077]\n",
      " [0.00129948 0.00595081 0.00836875 0.00111846]\n",
      " [0.00368219 0.0201782  0.01427531 0.03077132]]\n",
      "------------------------------------------------------------------------------------------\n",
      "Edge: (Clade(name='Int_0'), Clade(branch_length=1.0, name='Int_1'))\n",
      "Transition matrix difference:\n",
      " [[0.00043271 0.04586535 0.01971483 0.02571781]\n",
      " [0.04628465 0.03270525 0.01225697 0.00132243]\n",
      " [0.00405161 0.02596747 0.04979691 0.01977783]\n",
      " [0.05635943 0.0032355  0.00691523 0.06003916]]\n",
      "------------------------------------------------------------------------------------------\n",
      "Edge: (Clade(branch_length=1.0, name='Int_1'), Clade(branch_length=1.0, name='Leaf_4'))\n",
      "Transition matrix difference:\n",
      " [[0.02206907 0.00438435 0.02045318 0.00276846]\n",
      " [0.04114356 0.07985678 0.0152662  0.02344702]\n",
      " [0.01766089 0.02629588 0.04017144 0.00378534]\n",
      " [0.00126844 0.00706299 0.01874386 0.02707528]]\n",
      "------------------------------------------------------------------------------------------\n",
      "Edge: (Clade(branch_length=1.0, name='Int_1'), Clade(branch_length=1.0, name='Leaf_5'))\n",
      "Transition matrix difference:\n",
      " [[0.04539034 0.01368587 0.03621623 0.00451176]\n",
      " [0.00302602 0.00613968 0.01219578 0.00908212]\n",
      " [0.00442834 0.01538392 0.00158094 0.0213932 ]\n",
      " [0.02699704 0.00888034 0.00551462 0.03036276]]\n",
      "------------------------------------------------------------------------------------------\n"
     ]
    }
   ],
   "source": [
    "# Compute the matrix difference between the theoretical and estimated parameters\n",
    "for i in range(len(edges)):\n",
    "    print(\"Edge:\", edges[i].edge)\n",
    "    print(\"Transition matrix difference:\\n\", np.abs(edges[i].transition_matrix - params['M_' + str(edges[i].edge[0].name.split(\"_\")[1]) + '_to_' + str(edges[i].edge[1].name.split(\"_\")[1])].transition_matrix))\n",
    "    print(\"---\"*30)"
   ]
  },
  {
   "cell_type": "code",
   "execution_count": 5,
   "metadata": {},
   "outputs": [
    {
     "name": "stdout",
     "output_type": "stream",
     "text": [
      "Real pi\n",
      "[0.22989513 0.27578657 0.21707518 0.27724312]\n",
      "Real M\n",
      "M_0_to_2 [[9.89282144e-01 6.86651110e-03 2.27170922e-03 1.57963613e-03]\n",
      " [2.26295603e-03 9.86188014e-01 8.57441476e-03 2.97461509e-03]\n",
      " [5.86197454e-04 1.21414615e-03 9.97741743e-01 4.57913261e-04]\n",
      " [3.27306628e-03 7.46211096e-03 1.18366600e-03 9.88081157e-01]]\n",
      "M_0_to_3 [[0.45964843 0.3034673  0.08306612 0.15381815]\n",
      " [0.19991094 0.41526204 0.09852738 0.28629964]\n",
      " [0.19227237 0.14405841 0.53161775 0.13205147]\n",
      " [0.11729942 0.08805543 0.01884639 0.77579877]]\n",
      "M_0_to_1 [[0.58180378 0.11975086 0.12963916 0.16880621]\n",
      " [0.22179476 0.40025333 0.29564    0.08231191]\n",
      " [0.14293587 0.16594965 0.58396678 0.10714771]\n",
      " [0.11093259 0.0833871  0.22777222 0.5779081 ]]\n",
      "M_1_to_4 [[9.93347923e-01 1.93835997e-03 1.64024759e-03 3.07346937e-03]\n",
      " [3.54576021e-03 9.88188456e-01 5.20014808e-03 3.06563566e-03]\n",
      " [4.12653676e-03 6.47870096e-04 9.89846896e-01 5.37869669e-03]\n",
      " [5.34674274e-04 2.38818859e-03 8.95457146e-03 9.88122566e-01]]\n",
      "M_1_to_5 [[0.56986856 0.10049237 0.02508442 0.30455465]\n",
      " [0.20688373 0.62776307 0.06736436 0.09798884]\n",
      " [0.13969036 0.20474409 0.55760548 0.09796007]\n",
      " [0.34233352 0.07877415 0.11403049 0.46486184]]\n",
      "Loglikelihood real parameters = -76600.44945722801\n",
      "------------------------------------------------------------------------------------------\n",
      "Estimated M\n",
      "M_0_to_2 [[7.89086582e-01 1.89877222e-01 5.23889263e-03 1.57973036e-02]\n",
      " [2.10851218e-03 8.98504858e-01 9.86707743e-05 9.92879586e-02]\n",
      " [1.62313422e-02 7.33594829e-02 9.10409096e-01 7.93170061e-08]\n",
      " [1.30557834e-18 7.68264914e-03 1.71049355e-10 9.92317351e-01]]\n",
      "M_0_to_3 [[0.44169839 0.33480404 0.06911954 0.15437804]\n",
      " [0.1317141  0.49249932 0.06796403 0.30782255]\n",
      " [0.18450078 0.1628449  0.51562009 0.13703423]\n",
      " [0.11505475 0.06276894 0.01242489 0.80975141]]\n",
      "M_0_to_1 [[0.59542893 0.12826538 0.09166279 0.1846429 ]\n",
      " [0.13778298 0.45538793 0.34875932 0.05806978]\n",
      " [0.14928008 0.16296075 0.61022208 0.07753709]\n",
      " [0.04894912 0.03451215 0.17423895 0.74229978]]\n",
      "M_1_to_4 [[9.50939242e-01 4.87116679e-02 2.91442712e-07 3.48799048e-04]\n",
      " [6.37512972e-02 9.32797623e-01 3.45107747e-03 1.90832496e-09]\n",
      " [8.12135666e-03 2.54050569e-03 9.67975527e-01 2.13626105e-02]\n",
      " [8.24295240e-02 8.68917585e-03 1.84495506e-09 9.08881298e-01]]\n",
      "M_1_to_5 [[0.58687565 0.11128478 0.02446273 0.27737684]\n",
      " [0.16896679 0.66279048 0.07236345 0.09587928]\n",
      " [0.16501928 0.20020543 0.55561051 0.07916477]\n",
      " [0.28154491 0.09964441 0.07801595 0.54079474]]\n",
      "Estimated l\n",
      "M_0_to_2 0.11412605157889398\n",
      "M_0_to_3 0.667290145070225\n",
      "M_0_to_1 0.6008812997376454\n",
      "M_1_to_4 0.0641583825331071\n",
      "M_1_to_5 0.6353518380785494\n",
      "Estimated pi\n",
      "[0.28331721 0.20295619 0.2611298  0.2535978 ]\n",
      "Loglikelihood:\n",
      "[-85253.657694   -78370.86267752 -77608.95881369 -77168.39964377\n",
      " -76805.54360112 -76485.94140699 -76206.17372021 -76001.49258818\n",
      " -75879.88552361 -75812.47979924 -75772.98636789 -75747.54666228\n",
      " -75729.78931239 -75716.69880745 -75706.70532404 -75698.90060176\n",
      " -75692.70893921 -75687.73885665 -75683.71049219 -75680.4170075\n",
      " -75677.70227592 -75675.44688283 -75673.55869758 -75671.9661829\n",
      " -75670.61348507 -75669.45676155 -75668.46140646 -75667.59994336\n",
      " -75666.85041964 -75666.19518019 -75665.61992826 -75665.11300424\n",
      " -75664.66483013 -75664.26748006 -75663.91434709 -75663.59988375\n",
      " -75663.31939899 -75663.06889876 -75662.84496014 -75662.64463147\n",
      " -75662.46535276 -75662.30489177 -75662.16129246 -75662.03283319\n",
      " -75661.91799239 -75661.81542047 -75661.72391643 -75661.64240834\n",
      " -75661.56993701 -75661.50564208 -75661.44875028 -75661.39856527\n",
      " -75661.35445894 -75661.3158639  -75661.2822669  -75661.25320311\n",
      " -75661.22825104 -75661.20702819 -75661.18918704 -75661.17441164\n",
      " -75661.16241453 -75661.15293393 -75661.14573134 -75661.14058934\n",
      " -75661.13730961 -75661.13571115 -75661.13562873]\n",
      "Niter\n",
      "66\n",
      "TExec\n",
      "89.99201273918152\n"
     ]
    }
   ],
   "source": [
    "print(\"Real pi\")\n",
    "loaded_dict = np.load('./OUTPUTS/EM_a1_b75_1000_random/real_root_distr.npy', allow_pickle=True)\n",
    "print(loaded_dict)\n",
    "print(\"Real M\")\n",
    "loaded_dict = np.load('./OUTPUTS/EM_a1_b75_1000_random/real_matrices.npy', allow_pickle=True).item()\n",
    "for i in loaded_dict.items():\n",
    "    print(i[0], i[1])\n",
    "file = open(\"./OUTPUTS/EM_a1_b75_1000_random/Loglikelihood_real_param.txt\", \"r\")\n",
    "a = file.read()\n",
    "file.close()\n",
    "print(\"Loglikelihood real parameters =\", a)\n",
    "print(\"---\"*30)\n",
    "print(\"Estimated M\")\n",
    "loaded_dict = np.load('./OUTPUTS/EM_a1_b75_1000_random/RESULTS/repetition_61/M_estimation.npy', allow_pickle=True).item()\n",
    "for i in loaded_dict.items():\n",
    "    print(i[0], i[1])\n",
    "print(\"Estimated l\")\n",
    "loaded_dict = np.load('./OUTPUTS/EM_a1_b75_1000_random/RESULTS/repetition_61/estimated_branch_lengths.npy', allow_pickle=True).item()\n",
    "for i in loaded_dict.items():\n",
    "    print(i[0], i[1])\n",
    "print(\"Estimated pi\")\n",
    "loaded_dict = np.load('./OUTPUTS/EM_a1_b75_1000_random/RESULTS/repetition_61/root_estimation.npy', allow_pickle=True)\n",
    "print(loaded_dict)\n",
    "print(\"Loglikelihood:\")\n",
    "loaded_dict = np.load('./OUTPUTS/EM_a1_b75_1000_random/RESULTS/repetition_61/loglikelihood.npy', allow_pickle=True)\n",
    "print(loaded_dict)\n",
    "print(\"Niter\")\n",
    "file = open(\"./OUTPUTS/EM_a1_b75_1000_random/RESULTS/repetition_61/Niter.txt\", \"r\")\n",
    "a = file.read()\n",
    "file.close()\n",
    "print(a)\n",
    "print(\"TExec\")\n",
    "file = open(\"./OUTPUTS/EM_a1_b75_1000_random/RESULTS/repetition_61/TExec.txt\", \"r\")\n",
    "a = file.read()\n",
    "file.close()\n",
    "print(a)"
   ]
  },
  {
   "cell_type": "code",
   "execution_count": 7,
   "metadata": {},
   "outputs": [
    {
     "data": {
      "text/plain": [
       "Text(0.5, 1.0, '\\\\TeX\\\\ is Number $\\\\displaystyle\\\\sum_{n=1}^\\\\infty\\\\frac{-e^{i\\\\pi}}{2^n}$!')"
      ]
     },
     "execution_count": 7,
     "metadata": {},
     "output_type": "execute_result"
    },
    {
     "data": {
      "image/png": "[encoded data removed]",
      "text/plain": [
       "<Figure size 600x400 with 1 Axes>"
      ]
     },
     "metadata": {},
     "output_type": "display_data"
    }
   ],
   "source": [
    "import numpy as np\n",
    "import matplotlib.pyplot as plt\n",
    "\n",
    "plt.rcParams['text.usetex'] = True\n",
    "\n",
    "\n",
    "t = np.linspace(0.0, 1.0, 100)\n",
    "s = np.cos(4 * np.pi * t) + 2\n",
    "\n",
    "fig, ax = plt.subplots(figsize=(6, 4), tight_layout=True)\n",
    "ax.plot(t, s)\n",
    "\n",
    "ax.set_xlabel(r'\\textbf{time (s)}')\n",
    "ax.set_ylabel('\\\\textit{Velocity (\\N{DEGREE SIGN}/sec)}', fontsize=16)\n",
    "ax.set_title(r'\\TeX\\ is Number $\\displaystyle\\sum_{n=1}^\\infty'\n",
    "             r'\\frac{-e^{i\\pi}}{2^n}$!', fontsize=16, color='r')"
   ]
  },
  {
   "cell_type": "code",
   "execution_count": 34,
   "metadata": {},
   "outputs": [
    {
     "data": {
      "text/plain": [
       "array([[0.46859345, 0.45895751, 0.49718821, 0.51949561, 0.46959713,\n",
       "        0.51892612, 0.73279716, 0.65655076, 0.52268771, 0.57658202,\n",
       "        0.56681433, 0.64850538, 0.5045442 , 0.62646894, 0.68675087,\n",
       "        0.63410837, 0.5776487 , 0.6240821 , 0.47543598, 0.68618513],\n",
       "       [0.39790859, 0.17867732, 0.21366946, 0.39143257, 0.30866203,\n",
       "        0.42363557, 0.18329555, 0.33096039, 0.30373377, 0.24149679,\n",
       "        0.29365228, 0.22496564, 0.26863621, 0.23484876, 0.2588794 ,\n",
       "        0.26888975, 0.26050767, 0.18150088, 0.22167341, 0.25037013],\n",
       "       [0.13349796, 0.36236517, 0.28914232, 0.08907183, 0.22174085,\n",
       "        0.05743831, 0.08390729, 0.01248884, 0.17357851, 0.18192119,\n",
       "        0.13953338, 0.12652898, 0.22681959, 0.13868229, 0.05436973,\n",
       "        0.09700188, 0.16184362, 0.19441702, 0.30289061, 0.06344473]])"
      ]
     },
     "execution_count": 34,
     "metadata": {},
     "output_type": "execute_result"
    }
   ],
   "source": [
    "s = np.random.dirichlet((10, 5, 3), 20).transpose()\n",
    "s"
   ]
  },
  {
   "cell_type": "code",
   "execution_count": 49,
   "metadata": {},
   "outputs": [
    {
     "data": {
      "image/png": "[encoded data removed]",
      "text/plain": [
       "<Figure size 600x400 with 1 Axes>"
      ]
     },
     "metadata": {},
     "output_type": "display_data"
    }
   ],
   "source": [
    "import matplotlib.pyplot as plt\n",
    "\n",
    "fig, ax = plt.subplots(figsize=(6, 4), tight_layout=True)\n",
    "ax.barh(range(20), s[0], color='r')\n",
    "ax.barh(range(20), s[1], left=s[0], color='b')\n",
    "ax.barh(range(20), s[2], left=s[0]+s[1], color='limegreen')\n",
    "ax.set_title(r'{\\Huge\\textbf{Lengths of strings}}', fontsize=16)\n",
    "ax.set_ylabel(r'Repetitions', fontsize=19)\n",
    "ax.set_yticklabels([])\n",
    "ax.set_yticks([])\n",
    "# Define a x-limit axis\n",
    "ax.set_xlim([0, 1])\n",
    "# Hide the right and top spines\n",
    "ax.spines[['right', 'top', 'left']].set_visible(False)"
   ]
  },
  {
   "cell_type": "code",
   "execution_count": 54,
   "metadata": {},
   "outputs": [
    {
     "name": "stdout",
     "output_type": "stream",
     "text": [
      "l=0.01, gamma = 249.3758\n",
      "l=0.15, gamma = 62.1739\n",
      "l=0.3, gamma = 42.3455\n",
      "l=0.45, gamma = 33.3024\n",
      "l=0.6, gamma = 27.7792\n",
      "l=0.75, gamma = 23.932\n"
     ]
    }
   ],
   "source": [
    "for l in [0.01, 0.15, 0.3, 0.45, 0.6, 0.75]:\n",
    "    print(f\"l={l}, gamma = {round((25*np.sqrt(l)*np.exp(-l/4))/(l),4)}\")"
   ]
  },
  {
   "cell_type": "code",
   "execution_count": null,
   "metadata": {},
   "outputs": [],
   "source": [
    " "
   ]
  }
 ],
 "metadata": {
  "kernelspec": {
   "display_name": "debugger",
   "language": "python",
   "name": "debugger"
  },
  "language_info": {
   "codemirror_mode": {
    "name": "ipython",
    "version": 3
   },
   "file_extension": ".py",
   "mimetype": "text/x-python",
   "name": "python",
   "nbconvert_exporter": "python",
   "pygments_lexer": "ipython3",
   "version": "3.9.10"
  },
  "orig_nbformat": 4,
  "vscode": {
   "interpreter": {
    "hash": "03f790eb89590da6bbc9dab944ceea1669c4a69ff2bd32047ab9c0f81f755bd1"
   }
  }
 },
 "nbformat": 4,
 "nbformat_minor": 2
}
