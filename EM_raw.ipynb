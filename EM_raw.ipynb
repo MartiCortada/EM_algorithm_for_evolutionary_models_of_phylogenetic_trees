{
 "cells": [
  {
   "attachments": {},
   "cell_type": "markdown",
   "metadata": {},
   "source": [
    "# **Expectation-Maximization algorithm** (hidden model)\n",
    "### Author: Martí Cortada Garcia\n",
    "---"
   ]
  },
  {
   "cell_type": "code",
   "execution_count": 55,
   "metadata": {},
   "outputs": [],
   "source": [
    "# Import required libraries\n",
    "import numpy as np\n",
    "from Bio import SeqIO, Phylo\n",
    "from io import StringIO\n",
    "from collections import Counter, OrderedDict\n",
    "import itertools\n",
    "import pandas as pd\n",
    "import math\n",
    "import copy\n",
    "\n",
    "# Import required functions from modules we have programmed\n",
    "from data_simulation import simulate"
   ]
  },
  {
   "attachments": {},
   "cell_type": "markdown",
   "metadata": {},
   "source": [
    "### **Input:**\n",
    "We have a tree $T$ (where the root corresponds to the internal node codified as `Int_0`) and the alignments of the leaves."
   ]
  },
  {
   "cell_type": "code",
   "execution_count": 57,
   "metadata": {},
   "outputs": [
    {
     "data": {
      "image/png": "[encoded data removed]",
      "text/plain": [
       "<Figure size 640x480 with 1 Axes>"
      ]
     },
     "metadata": {},
     "output_type": "display_data"
    }
   ],
   "source": [
    "newick_tree = open(\"./newick2.txt\", \"r\")\n",
    "newick = newick_tree.read()\n",
    "newick_tree.close()\n",
    "tree = Phylo.read(StringIO(newick), \"newick\")\n",
    "\n",
    "# Change nodes names\n",
    "for idx, clade in enumerate(tree.get_nonterminals()):\n",
    "    clade.name = \"Int_\" + str(idx) if idx > 0 else \"Int_0\" \n",
    "\n",
    "# Change leaves names\n",
    "for idx, clade in enumerate(tree.get_terminals()):\n",
    "    clade.name = \"Leaf_\" + clade.name \n",
    "\n",
    "Phylo.draw(tree)\n",
    "\n",
    "net = Phylo.to_networkx(tree) # to graph"
   ]
  },
  {
   "cell_type": "code",
   "execution_count": 13,
   "metadata": {},
   "outputs": [
    {
     "name": "stdout",
     "output_type": "stream",
     "text": [
      "Edge: (Clade(name='Int_0'), Clade(branch_length=1.0, name='Leaf_2'))\n",
      "Transition matrix: [[0.64642183 0.02803076 0.27483013 0.05071728]\n",
      " [0.03848122 0.7757021  0.10189982 0.08391686]\n",
      " [0.03184807 0.07934462 0.82109495 0.06771236]\n",
      " [0.04702478 0.01879095 0.04076404 0.89342023]]\n",
      "------------------------------------------------------------------------------------------\n",
      "Edge: (Clade(name='Int_0'), Clade(branch_length=1.0, name='Leaf_3'))\n",
      "Transition matrix: [[0.55850753 0.13612552 0.2499751  0.05539185]\n",
      " [0.01791204 0.82605787 0.05907209 0.096958  ]\n",
      " [0.04534628 0.008074   0.85149918 0.09508054]\n",
      " [0.00646156 0.06355415 0.02348564 0.90649866]]\n",
      "------------------------------------------------------------------------------------------\n",
      "Edge: (Clade(name='Int_0'), Clade(branch_length=1.0, name='Int_1'))\n",
      "Transition matrix: [[0.75152183 0.09827146 0.07355421 0.0766525 ]\n",
      " [0.04888819 0.86735324 0.02989229 0.05386628]\n",
      " [0.05446854 0.02450495 0.75018255 0.17084396]\n",
      " [0.12039713 0.03979299 0.05715314 0.78265675]]\n",
      "------------------------------------------------------------------------------------------\n",
      "Edge: (Clade(branch_length=1.0, name='Int_1'), Clade(branch_length=1.0, name='Leaf_4'))\n",
      "Transition matrix: [[0.82835309 0.03976936 0.05146899 0.08040856]\n",
      " [0.02327998 0.80873654 0.06043788 0.10754561]\n",
      " [0.11544022 0.13895831 0.71027209 0.03532938]\n",
      " [0.09988558 0.08065349 0.01737091 0.80209001]]\n",
      "------------------------------------------------------------------------------------------\n",
      "Edge: (Clade(branch_length=1.0, name='Int_1'), Clade(branch_length=1.0, name='Leaf_5'))\n",
      "Transition matrix: [[0.78296278 0.06942125 0.08171685 0.06589912]\n",
      " [0.02166725 0.83743552 0.01932756 0.12156967]\n",
      " [0.11182788 0.03378373 0.78484422 0.06954417]\n",
      " [0.11063295 0.0881492  0.0495941  0.75162375]]\n",
      "------------------------------------------------------------------------------------------\n",
      "Root distribution: [0.23195748 0.24737645 0.23524372 0.28542235]\n"
     ]
    },
    {
     "data": {
      "text/plain": [
       "0.6464218290229772"
      ]
     },
     "execution_count": 13,
     "metadata": {},
     "output_type": "execute_result"
    }
   ],
   "source": [
    "# Check the theoretical parameters:\n",
    "theoretical_matrices = dict()\n",
    "for i in range(len(edges)):\n",
    "    print(\"Edge:\", edges[i].edge)\n",
    "    u = edges[i].edge[0].name.split(\"_\")[1]\n",
    "    v = edges[i].edge[1].name.split(\"_\")[1]\n",
    "    matrix_name = \"M_\" + u + \"_to_\" + v\n",
    "    print(\"Transition matrix:\", edges[i].transition_matrix)\n",
    "    theoretical_matrices[matrix_name] = np.array(edges[i].transition_matrix)\n",
    "    print(\"---\"*30)\n",
    "\n",
    "print(\"Root distribution:\", node_distr['Int_0'])"
   ]
  },
  {
   "cell_type": "code",
   "execution_count": 18,
   "metadata": {},
   "outputs": [
    {
     "name": "stdout",
     "output_type": "stream",
     "text": [
      "{'M_0_to_2': array([[0.64642183, 0.02803076, 0.27483013, 0.05071728],\n",
      "       [0.03848122, 0.7757021 , 0.10189982, 0.08391686],\n",
      "       [0.03184807, 0.07934462, 0.82109495, 0.06771236],\n",
      "       [0.04702478, 0.01879095, 0.04076404, 0.89342023]]), 'M_0_to_3': array([[0.55850753, 0.13612552, 0.2499751 , 0.05539185],\n",
      "       [0.01791204, 0.82605787, 0.05907209, 0.096958  ],\n",
      "       [0.04534628, 0.008074  , 0.85149918, 0.09508054],\n",
      "       [0.00646156, 0.06355415, 0.02348564, 0.90649866]]), 'M_0_to_1': array([[0.75152183, 0.09827146, 0.07355421, 0.0766525 ],\n",
      "       [0.04888819, 0.86735324, 0.02989229, 0.05386628],\n",
      "       [0.05446854, 0.02450495, 0.75018255, 0.17084396],\n",
      "       [0.12039713, 0.03979299, 0.05715314, 0.78265675]]), 'M_1_to_4': array([[0.82835309, 0.03976936, 0.05146899, 0.08040856],\n",
      "       [0.02327998, 0.80873654, 0.06043788, 0.10754561],\n",
      "       [0.11544022, 0.13895831, 0.71027209, 0.03532938],\n",
      "       [0.09988558, 0.08065349, 0.01737091, 0.80209001]]), 'M_1_to_5': array([[0.78296278, 0.06942125, 0.08171685, 0.06589912],\n",
      "       [0.02166725, 0.83743552, 0.01932756, 0.12156967],\n",
      "       [0.11182788, 0.03378373, 0.78484422, 0.06954417],\n",
      "       [0.11063295, 0.0881492 , 0.0495941 , 0.75162375]])}\n"
     ]
    }
   ],
   "source": [
    "# # save the dictionary to a file\n",
    "# np.save('data.npy', theoretical_matrices)\n",
    "# # load the dictionary from the file\n",
    "# loaded_dict = np.load('data.npy', allow_pickle=True).item()\n",
    "# # print the loaded dictionary\n",
    "# print(loaded_dict)"
   ]
  },
  {
   "cell_type": "code",
   "execution_count": 19,
   "metadata": {},
   "outputs": [
    {
     "name": "stdout",
     "output_type": "stream",
     "text": [
      "M_0_to_2\n",
      "Edge: (Clade(name='Int_0'), Clade(branch_length=1.0, name='Leaf_2'))\n",
      "Transition matrix:\n",
      " [[0.86753892 0.05213542 0.06946348 0.01086218]\n",
      " [0.08065343 0.85671968 0.04982893 0.01279796]\n",
      " [0.11219846 0.17464684 0.65461785 0.05853685]\n",
      " [0.02775028 0.08494961 0.04088151 0.8464186 ]]\n",
      "------------------------------------------------------------------------------------------\n",
      "M_0_to_3\n",
      "Edge: (Clade(name='Int_0'), Clade(branch_length=1.0, name='Leaf_3'))\n",
      "Transition matrix:\n",
      " [[0.75527498 0.04249873 0.00019955 0.20202674]\n",
      " [0.10446698 0.73349645 0.10777451 0.05426206]\n",
      " [0.009178   0.09167603 0.88105832 0.01808765]\n",
      " [0.10672648 0.08298123 0.01949473 0.79079756]]\n",
      "------------------------------------------------------------------------------------------\n",
      "M_0_to_1\n",
      "Edge: (Clade(name='Int_0'), Clade(branch_length=1.0, name='Int_1'))\n",
      "Transition matrix:\n",
      " [[0.69009493 0.15321495 0.12518281 0.03150731]\n",
      " [0.03390489 0.89612499 0.03748613 0.032484  ]\n",
      " [0.13612944 0.00355591 0.86031238 0.00000227]\n",
      " [0.13829849 0.07169377 0.04358193 0.74642581]]\n",
      "------------------------------------------------------------------------------------------\n",
      "M_1_to_4\n",
      "Edge: (Clade(branch_length=1.0, name='Int_1'), Clade(branch_length=1.0, name='Leaf_4'))\n",
      "Transition matrix:\n",
      " [[0.79787321 0.09123409 0.0748348  0.0360579 ]\n",
      " [0.1525167  0.62670853 0.12700414 0.09377063]\n",
      " [0.06182208 0.09423139 0.82703856 0.01690797]\n",
      " [0.09434814 0.05487633 0.01727208 0.83350345]]\n",
      "------------------------------------------------------------------------------------------\n",
      "M_1_to_5\n",
      "Edge: (Clade(branch_length=1.0, name='Int_1'), Clade(branch_length=1.0, name='Leaf_5'))\n",
      "Transition matrix:\n",
      " [[0.77670263 0.03884329 0.11981174 0.06464234]\n",
      " [0.07306013 0.6964252  0.14381485 0.08669983]\n",
      " [0.0001472  0.02174493 0.93060026 0.04750762]\n",
      " [0.01290462 0.10677068 0.06826479 0.81205991]]\n",
      "------------------------------------------------------------------------------------------\n",
      "Root distribution: [0.23508015 0.26506847 0.26101933 0.23983305]\n"
     ]
    }
   ],
   "source": [
    "# Check the estimated parameters:\n",
    "for i in params.items():\n",
    "    print(i[0])\n",
    "    print(\"Edge:\", i[1].edge)\n",
    "    print(\"Transition matrix:\\n\", i[1].transition_matrix)\n",
    "    print(\"---\"*30)\n",
    "\n",
    "print(\"Root distribution:\", root_distr)"
   ]
  },
  {
   "cell_type": "code",
   "execution_count": 20,
   "metadata": {},
   "outputs": [
    {
     "name": "stdout",
     "output_type": "stream",
     "text": [
      "Edge: (Clade(name='Int_0'), Clade(branch_length=1.0, name='Leaf_2'))\n",
      "Transition matrix difference:\n",
      " [[0.09960865 0.07093256 0.00498621 0.03366231]\n",
      " [0.01576357 0.02703813 0.00892483 0.03387688]\n",
      " [0.00533819 0.03058066 0.01301418 0.01222828]\n",
      " [0.00504287 0.04282721 0.00457214 0.05244223]]\n",
      "------------------------------------------------------------------------------------------\n",
      "Edge: (Clade(name='Int_0'), Clade(branch_length=1.0, name='Leaf_3'))\n",
      "Transition matrix difference:\n",
      " [[0.00386991 0.01431933 0.0324696  0.04291902]\n",
      " [0.03240956 0.00438465 0.00578344 0.03101077]\n",
      " [0.00129948 0.00595081 0.00836875 0.00111846]\n",
      " [0.00368219 0.0201782  0.01427531 0.03077132]]\n",
      "------------------------------------------------------------------------------------------\n",
      "Edge: (Clade(name='Int_0'), Clade(branch_length=1.0, name='Int_1'))\n",
      "Transition matrix difference:\n",
      " [[0.00043271 0.04586535 0.01971483 0.02571781]\n",
      " [0.04628465 0.03270525 0.01225697 0.00132243]\n",
      " [0.00405161 0.02596747 0.04979691 0.01977783]\n",
      " [0.05635943 0.0032355  0.00691523 0.06003916]]\n",
      "------------------------------------------------------------------------------------------\n",
      "Edge: (Clade(branch_length=1.0, name='Int_1'), Clade(branch_length=1.0, name='Leaf_4'))\n",
      "Transition matrix difference:\n",
      " [[0.02206907 0.00438435 0.02045318 0.00276846]\n",
      " [0.04114356 0.07985678 0.0152662  0.02344702]\n",
      " [0.01766089 0.02629588 0.04017144 0.00378534]\n",
      " [0.00126844 0.00706299 0.01874386 0.02707528]]\n",
      "------------------------------------------------------------------------------------------\n",
      "Edge: (Clade(branch_length=1.0, name='Int_1'), Clade(branch_length=1.0, name='Leaf_5'))\n",
      "Transition matrix difference:\n",
      " [[0.04539034 0.01368587 0.03621623 0.00451176]\n",
      " [0.00302602 0.00613968 0.01219578 0.00908212]\n",
      " [0.00442834 0.01538392 0.00158094 0.0213932 ]\n",
      " [0.02699704 0.00888034 0.00551462 0.03036276]]\n",
      "------------------------------------------------------------------------------------------\n"
     ]
    }
   ],
   "source": [
    "# Compute the matrix difference between the theoretical and estimated parameters\n",
    "for i in range(len(edges)):\n",
    "    print(\"Edge:\", edges[i].edge)\n",
    "    print(\"Transition matrix difference:\\n\", np.abs(edges[i].transition_matrix - params['M_' + str(edges[i].edge[0].name.split(\"_\")[1]) + '_to_' + str(edges[i].edge[1].name.split(\"_\")[1])].transition_matrix))\n",
    "    print(\"---\"*30)"
   ]
  },
  {
   "cell_type": "code",
   "execution_count": 7,
   "metadata": {},
   "outputs": [
    {
     "name": "stdout",
     "output_type": "stream",
     "text": [
      "Real pi\n",
      "[0.26647112 0.28330114 0.20796276 0.24226498]\n",
      "Real M\n",
      "M_0_to_2 [[0.68952073 0.10590457 0.01798509 0.18658961]\n",
      " [0.24836601 0.55787009 0.06397662 0.12978728]\n",
      " [0.06442086 0.13036822 0.79340712 0.01180381]\n",
      " [0.14025276 0.1546986  0.06326995 0.64177869]]\n",
      "M_0_to_3 [[0.52892709 0.19285074 0.13821195 0.14001022]\n",
      " [0.06213775 0.80940675 0.05954367 0.06891182]\n",
      " [0.1077278  0.02559225 0.82619825 0.0404817 ]\n",
      " [0.12979294 0.30273084 0.04160339 0.52587282]]\n",
      "M_0_to_1 [[0.51499869 0.16274155 0.1037552  0.21850456]\n",
      " [0.19775315 0.71734565 0.0632208  0.0216804 ]\n",
      " [0.17418369 0.12448052 0.6522592  0.04907658]\n",
      " [0.04671546 0.05060178 0.09355264 0.80913012]]\n",
      "M_1_to_4 [[0.83858447 0.01308827 0.04530716 0.1030201 ]\n",
      " [0.02236854 0.70610647 0.16838053 0.10314446]\n",
      " [0.13924891 0.06411583 0.56455207 0.23208319]\n",
      " [0.16503371 0.02539007 0.19798757 0.61158865]]\n",
      "M_1_to_5 [[0.58443214 0.18794543 0.06003662 0.16758581]\n",
      " [0.12636206 0.66203793 0.07256628 0.13903373]\n",
      " [0.03941104 0.11658531 0.79293194 0.05107171]\n",
      " [0.14678873 0.09997647 0.11192661 0.64130819]]\n",
      "Loglikelihood real parameters = -81201.46793962475\n",
      "------------------------------------------------------------------------------------------\n",
      "Estimated M\n",
      "M_0_to_2 [[6.31282099e-01 5.73511985e-02 5.06273518e-02 2.60739351e-01]\n",
      " [2.36899966e-01 5.79811959e-01 3.82008103e-02 1.45087264e-01]\n",
      " [6.04614478e-02 1.61417366e-01 7.78121186e-01 1.94617358e-14]\n",
      " [1.88452980e-01 1.82323935e-01 5.91912316e-02 5.70031853e-01]]\n",
      "M_0_to_3 [[0.53077641 0.17334869 0.16767097 0.12820393]\n",
      " [0.08254374 0.82966182 0.04558047 0.04221397]\n",
      " [0.11253583 0.03415031 0.78095092 0.07236295]\n",
      " [0.07689766 0.33212858 0.0691691  0.52180466]]\n",
      "M_0_to_1 [[0.55917723 0.15985849 0.02634088 0.25462341]\n",
      " [0.21436086 0.65300314 0.12863571 0.0040003 ]\n",
      " [0.17521592 0.08698042 0.70194757 0.03585609]\n",
      " [0.04782163 0.08127213 0.05092462 0.81998162]]\n",
      "M_1_to_4 [[0.83034967 0.03676093 0.05442851 0.07846088]\n",
      " [0.0142335  0.7435044  0.17117373 0.07108837]\n",
      " [0.15885948 0.06712028 0.49628522 0.27773501]\n",
      " [0.1403673  0.01805869 0.23839902 0.60317499]]\n",
      "M_1_to_5 [[0.60846151 0.14323212 0.07258065 0.17572572]\n",
      " [0.12780649 0.6229611  0.09452925 0.15470316]\n",
      " [0.00430104 0.15252237 0.74823169 0.0949449 ]\n",
      " [0.14466604 0.13787237 0.16953695 0.54792464]]\n",
      "Estimated l\n",
      "M_0_to_2 0.510011166133654\n",
      "M_0_to_3 0.44672425895596646\n",
      "M_0_to_1 0.42365876052773066\n",
      "M_1_to_4 0.5002037344856052\n",
      "M_1_to_5 0.5228810714836957\n",
      "Estimated pi\n",
      "[0.24631719 0.29708326 0.2174093  0.24019125]\n",
      "Loglikelihood:\n",
      "[-87089.87339344 -82875.96102341 -82157.52869837 -81879.25466643\n",
      " -81753.71220404 -81680.82050667 -81630.01040321 -81591.6116428\n",
      " -81561.58797149 -81537.644641   -81518.23827531 -81502.27244331\n",
      " -81488.95902823 -81477.72869215 -81468.16545369 -81459.95913906\n",
      " -81452.87219447 -81446.71746714 -81441.3437895  -81436.62676001\n",
      " -81432.46279267 -81428.76513087 -81425.46100793 -81422.48947641\n",
      " -81419.79964407 -81417.34918029 -81415.1030242  -81413.03225897\n",
      " -81411.1131312  -81409.32619986 -81407.65560154 -81406.08841924\n",
      " -81404.61414297 -81403.22421136 -81401.91162418 -81400.67061742\n",
      " -81399.49639302 -81398.38489649 -81397.33263652 -81396.33654094\n",
      " -81395.39384397 -81394.50200029 -81393.65862139 -81392.86143041\n",
      " -81392.10823168 -81391.39689194 -81390.7253302  -81390.09151394\n",
      " -81389.49345962 -81388.92923586 -81388.39696798 -81387.89484302\n",
      " -81387.4211146  -81386.97410706 -81386.55221872 -81386.15392412\n",
      " -81385.77777522 -81385.42240162 -81385.08650985 -81384.768882\n",
      " -81384.46837363 -81384.18391126 -81383.91448942 -81383.65916753\n",
      " -81383.41706658 -81383.18736572 -81382.96929887 -81382.76215136\n",
      " -81382.56525667 -81382.37799328 -81382.19978162 -81382.03008125\n",
      " -81381.86838808 -81381.71423189 -81381.5671739  -81381.42680453\n",
      " -81381.29274137 -81381.16462715 -81381.04212804 -81380.92493191\n",
      " -81380.81274684 -81380.70529963 -81380.60233452 -81380.50361194\n",
      " -81380.40890739 -81380.31801038 -81380.23072344 -81380.14686126\n",
      " -81380.06624983 -81379.98872567 -81379.91413513 -81379.84233371\n",
      " -81379.77318546 -81379.70656239 -81379.64234398 -81379.58041665\n",
      " -81379.52067332 -81379.463013   -81379.40734038 -81379.35356548\n",
      " -81379.30160327]\n",
      "Niter\n",
      "100\n",
      "TExec\n",
      "201.31199884414673\n"
     ]
    }
   ],
   "source": [
    "print(\"Real pi\")\n",
    "loaded_dict = np.load('./OUTPUTS/EM_a45_b45_1000_random/real_root_distr.npy', allow_pickle=True)\n",
    "print(loaded_dict)\n",
    "print(\"Real M\")\n",
    "loaded_dict = np.load('./OUTPUTS/EM_a45_b45_1000_random/real_matrices.npy', allow_pickle=True).item()\n",
    "for i in loaded_dict.items():\n",
    "    print(i[0], i[1])\n",
    "file = open(\"./OUTPUTS/EM_a45_b45_1000_random/Loglikelihood_real_param.txt\", \"r\")\n",
    "a = file.read()\n",
    "file.close()\n",
    "print(\"Loglikelihood real parameters =\", a)\n",
    "print(\"---\"*30)\n",
    "print(\"Estimated M\")\n",
    "loaded_dict = np.load('./OUTPUTS/EM_a45_b45_1000_random/RESULTS/repetition_61/M_estimation.npy', allow_pickle=True).item()\n",
    "for i in loaded_dict.items():\n",
    "    print(i[0], i[1])\n",
    "print(\"Estimated l\")\n",
    "loaded_dict = np.load('./OUTPUTS/EM_a45_b45_1000_random/RESULTS/repetition_61/estimated_branch_lengths.npy', allow_pickle=True).item()\n",
    "for i in loaded_dict.items():\n",
    "    print(i[0], i[1])\n",
    "print(\"Estimated pi\")\n",
    "loaded_dict = np.load('./OUTPUTS/EM_a45_b45_1000_random/RESULTS/repetition_61/root_estimation.npy', allow_pickle=True)\n",
    "print(loaded_dict)\n",
    "print(\"Loglikelihood:\")\n",
    "loaded_dict = np.load('./OUTPUTS/EM_a45_b45_1000_random/RESULTS/repetition_61/loglikelihood.npy', allow_pickle=True)\n",
    "print(loaded_dict)\n",
    "print(\"Niter\")\n",
    "file = open(\"./OUTPUTS/EM_a45_b45_1000_random/RESULTS/repetition_61/Niter.txt\", \"r\")\n",
    "a = file.read()\n",
    "file.close()\n",
    "print(a)\n",
    "print(\"TExec\")\n",
    "file = open(\"./OUTPUTS/EM_a45_b45_1000_random/RESULTS/repetition_61/TExec.txt\", \"r\")\n",
    "a = file.read()\n",
    "file.close()\n",
    "print(a)"
   ]
  },
  {
   "cell_type": "code",
   "execution_count": 7,
   "metadata": {},
   "outputs": [
    {
     "data": {
      "text/plain": [
       "Text(0.5, 1.0, '\\\\TeX\\\\ is Number $\\\\displaystyle\\\\sum_{n=1}^\\\\infty\\\\frac{-e^{i\\\\pi}}{2^n}$!')"
      ]
     },
     "execution_count": 7,
     "metadata": {},
     "output_type": "execute_result"
    },
    {
     "data": {
      "image/png": "[encoded data removed]",
      "text/plain": [
       "<Figure size 600x400 with 1 Axes>"
      ]
     },
     "metadata": {},
     "output_type": "display_data"
    }
   ],
   "source": [
    "import numpy as np\n",
    "import matplotlib.pyplot as plt\n",
    "\n",
    "plt.rcParams['text.usetex'] = True\n",
    "\n",
    "\n",
    "t = np.linspace(0.0, 1.0, 100)\n",
    "s = np.cos(4 * np.pi * t) + 2\n",
    "\n",
    "fig, ax = plt.subplots(figsize=(6, 4), tight_layout=True)\n",
    "ax.plot(t, s)\n",
    "\n",
    "ax.set_xlabel(r'\\textbf{time (s)}')\n",
    "ax.set_ylabel('\\\\textit{Velocity (\\N{DEGREE SIGN}/sec)}', fontsize=16)\n",
    "ax.set_title(r'\\TeX\\ is Number $\\displaystyle\\sum_{n=1}^\\infty'\n",
    "             r'\\frac{-e^{i\\pi}}{2^n}$!', fontsize=16, color='r')"
   ]
  },
  {
   "cell_type": "code",
   "execution_count": 34,
   "metadata": {},
   "outputs": [
    {
     "data": {
      "text/plain": [
       "array([[0.46859345, 0.45895751, 0.49718821, 0.51949561, 0.46959713,\n",
       "        0.51892612, 0.73279716, 0.65655076, 0.52268771, 0.57658202,\n",
       "        0.56681433, 0.64850538, 0.5045442 , 0.62646894, 0.68675087,\n",
       "        0.63410837, 0.5776487 , 0.6240821 , 0.47543598, 0.68618513],\n",
       "       [0.39790859, 0.17867732, 0.21366946, 0.39143257, 0.30866203,\n",
       "        0.42363557, 0.18329555, 0.33096039, 0.30373377, 0.24149679,\n",
       "        0.29365228, 0.22496564, 0.26863621, 0.23484876, 0.2588794 ,\n",
       "        0.26888975, 0.26050767, 0.18150088, 0.22167341, 0.25037013],\n",
       "       [0.13349796, 0.36236517, 0.28914232, 0.08907183, 0.22174085,\n",
       "        0.05743831, 0.08390729, 0.01248884, 0.17357851, 0.18192119,\n",
       "        0.13953338, 0.12652898, 0.22681959, 0.13868229, 0.05436973,\n",
       "        0.09700188, 0.16184362, 0.19441702, 0.30289061, 0.06344473]])"
      ]
     },
     "execution_count": 34,
     "metadata": {},
     "output_type": "execute_result"
    }
   ],
   "source": [
    "s = np.random.dirichlet((10, 5, 3), 20).transpose()\n",
    "s"
   ]
  },
  {
   "cell_type": "code",
   "execution_count": 49,
   "metadata": {},
   "outputs": [
    {
     "data": {
      "image/png": "[encoded data removed]",
      "text/plain": [
       "<Figure size 600x400 with 1 Axes>"
      ]
     },
     "metadata": {},
     "output_type": "display_data"
    }
   ],
   "source": [
    "import matplotlib.pyplot as plt\n",
    "\n",
    "fig, ax = plt.subplots(figsize=(6, 4), tight_layout=True)\n",
    "ax.barh(range(20), s[0], color='r')\n",
    "ax.barh(range(20), s[1], left=s[0], color='b')\n",
    "ax.barh(range(20), s[2], left=s[0]+s[1], color='limegreen')\n",
    "ax.set_title(r'{\\Huge\\textbf{Lengths of strings}}', fontsize=16)\n",
    "ax.set_ylabel(r'Repetitions', fontsize=19)\n",
    "ax.set_yticklabels([])\n",
    "ax.set_yticks([])\n",
    "# Define a x-limit axis\n",
    "ax.set_xlim([0, 1])\n",
    "# Hide the right and top spines\n",
    "ax.spines[['right', 'top', 'left']].set_visible(False)"
   ]
  },
  {
   "cell_type": "code",
   "execution_count": 54,
   "metadata": {},
   "outputs": [
    {
     "name": "stdout",
     "output_type": "stream",
     "text": [
      "l=0.01, gamma = 249.3758\n",
      "l=0.15, gamma = 62.1739\n",
      "l=0.3, gamma = 42.3455\n",
      "l=0.45, gamma = 33.3024\n",
      "l=0.6, gamma = 27.7792\n",
      "l=0.75, gamma = 23.932\n"
     ]
    }
   ],
   "source": [
    "for l in [0.01, 0.15, 0.3, 0.45, 0.6, 0.75]:\n",
    "    print(f\"l={l}, gamma = {round((25*np.sqrt(l)*np.exp(-l/4))/(l),4)}\")"
   ]
  },
  {
   "cell_type": "code",
   "execution_count": null,
   "metadata": {},
   "outputs": [],
   "source": []
  }
 ],
 "metadata": {
  "kernelspec": {
   "display_name": "debugger",
   "language": "python",
   "name": "debugger"
  },
  "language_info": {
   "codemirror_mode": {
    "name": "ipython",
    "version": 3
   },
   "file_extension": ".py",
   "mimetype": "text/x-python",
   "name": "python",
   "nbconvert_exporter": "python",
   "pygments_lexer": "ipython3",
   "version": "3.9.10"
  },
  "orig_nbformat": 4,
  "vscode": {
   "interpreter": {
    "hash": "03f790eb89590da6bbc9dab944ceea1669c4a69ff2bd32047ab9c0f81f755bd1"
   }
  }
 },
 "nbformat": 4,
 "nbformat_minor": 2
}
