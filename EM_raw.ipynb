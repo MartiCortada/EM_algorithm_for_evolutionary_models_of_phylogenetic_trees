{
 "cells": [
  {
   "attachments": {},
   "cell_type": "markdown",
   "metadata": {},
   "source": [
    "# **Expectation-Maximization algorithm** (hidden model)\n",
    "### Author: Martí Cortada Garcia\n",
    "---"
   ]
  },
  {
   "cell_type": "code",
   "execution_count": 2,
   "metadata": {},
   "outputs": [],
   "source": [
    "# Import required libraries\n",
    "import numpy as np\n",
    "from Bio import SeqIO, Phylo\n",
    "from io import StringIO\n",
    "from collections import Counter, OrderedDict\n",
    "import itertools\n",
    "import pandas as pd\n",
    "import math\n",
    "import copy\n",
    "\n",
    "# Import required functions from modules we have programmed\n",
    "from data_simulation import simulate"
   ]
  },
  {
   "attachments": {},
   "cell_type": "markdown",
   "metadata": {},
   "source": [
    "### **Input:**\n",
    "We have a tree $T$ (where the root corresponds to the internal node codified as `Int_0`) and the alignments of the leaves."
   ]
  },
  {
   "cell_type": "code",
   "execution_count": 6,
   "metadata": {},
   "outputs": [
    {
     "data": {
      "image/png": "[encoded data removed]",
      "text/plain": [
       "<Figure size 640x480 with 1 Axes>"
      ]
     },
     "metadata": {},
     "output_type": "display_data"
    }
   ],
   "source": [
    "newick_tree = open(\"newick4.txt\", \"r\")\n",
    "newick = newick_tree.read()\n",
    "newick_tree.close()\n",
    "tree = Phylo.read(StringIO(newick), \"newick\")\n",
    "\n",
    "# Change nodes names\n",
    "for idx, clade in enumerate(tree.get_nonterminals()):\n",
    "    clade.name = \"Int_\" + str(idx) if idx > 0 else \"Int_0\" \n",
    "\n",
    "# Change leaves names\n",
    "for idx, clade in enumerate(tree.get_terminals()):\n",
    "    clade.name = \"Leaf_\" + clade.name \n",
    "\n",
    "Phylo.draw(tree)\n",
    "\n",
    "net = Phylo.to_networkx(tree) # to graph"
   ]
  },
  {
   "cell_type": "code",
   "execution_count": 13,
   "metadata": {},
   "outputs": [
    {
     "name": "stdout",
     "output_type": "stream",
     "text": [
      "Edge: (Clade(name='Int_0'), Clade(branch_length=1.0, name='Leaf_2'))\n",
      "Transition matrix: [[0.64642183 0.02803076 0.27483013 0.05071728]\n",
      " [0.03848122 0.7757021  0.10189982 0.08391686]\n",
      " [0.03184807 0.07934462 0.82109495 0.06771236]\n",
      " [0.04702478 0.01879095 0.04076404 0.89342023]]\n",
      "------------------------------------------------------------------------------------------\n",
      "Edge: (Clade(name='Int_0'), Clade(branch_length=1.0, name='Leaf_3'))\n",
      "Transition matrix: [[0.55850753 0.13612552 0.2499751  0.05539185]\n",
      " [0.01791204 0.82605787 0.05907209 0.096958  ]\n",
      " [0.04534628 0.008074   0.85149918 0.09508054]\n",
      " [0.00646156 0.06355415 0.02348564 0.90649866]]\n",
      "------------------------------------------------------------------------------------------\n",
      "Edge: (Clade(name='Int_0'), Clade(branch_length=1.0, name='Int_1'))\n",
      "Transition matrix: [[0.75152183 0.09827146 0.07355421 0.0766525 ]\n",
      " [0.04888819 0.86735324 0.02989229 0.05386628]\n",
      " [0.05446854 0.02450495 0.75018255 0.17084396]\n",
      " [0.12039713 0.03979299 0.05715314 0.78265675]]\n",
      "------------------------------------------------------------------------------------------\n",
      "Edge: (Clade(branch_length=1.0, name='Int_1'), Clade(branch_length=1.0, name='Leaf_4'))\n",
      "Transition matrix: [[0.82835309 0.03976936 0.05146899 0.08040856]\n",
      " [0.02327998 0.80873654 0.06043788 0.10754561]\n",
      " [0.11544022 0.13895831 0.71027209 0.03532938]\n",
      " [0.09988558 0.08065349 0.01737091 0.80209001]]\n",
      "------------------------------------------------------------------------------------------\n",
      "Edge: (Clade(branch_length=1.0, name='Int_1'), Clade(branch_length=1.0, name='Leaf_5'))\n",
      "Transition matrix: [[0.78296278 0.06942125 0.08171685 0.06589912]\n",
      " [0.02166725 0.83743552 0.01932756 0.12156967]\n",
      " [0.11182788 0.03378373 0.78484422 0.06954417]\n",
      " [0.11063295 0.0881492  0.0495941  0.75162375]]\n",
      "------------------------------------------------------------------------------------------\n",
      "Root distribution: [0.23195748 0.24737645 0.23524372 0.28542235]\n"
     ]
    },
    {
     "data": {
      "text/plain": [
       "0.6464218290229772"
      ]
     },
     "execution_count": 13,
     "metadata": {},
     "output_type": "execute_result"
    }
   ],
   "source": [
    "# Check the theoretical parameters:\n",
    "theoretical_matrices = dict()\n",
    "for i in range(len(edges)):\n",
    "    print(\"Edge:\", edges[i].edge)\n",
    "    u = edges[i].edge[0].name.split(\"_\")[1]\n",
    "    v = edges[i].edge[1].name.split(\"_\")[1]\n",
    "    matrix_name = \"M_\" + u + \"_to_\" + v\n",
    "    print(\"Transition matrix:\", edges[i].transition_matrix)\n",
    "    theoretical_matrices[matrix_name] = np.array(edges[i].transition_matrix)\n",
    "    print(\"---\"*30)\n",
    "\n",
    "print(\"Root distribution:\", node_distr['Int_0'])"
   ]
  },
  {
   "cell_type": "code",
   "execution_count": 18,
   "metadata": {},
   "outputs": [
    {
     "name": "stdout",
     "output_type": "stream",
     "text": [
      "{'M_0_to_2': array([[0.64642183, 0.02803076, 0.27483013, 0.05071728],\n",
      "       [0.03848122, 0.7757021 , 0.10189982, 0.08391686],\n",
      "       [0.03184807, 0.07934462, 0.82109495, 0.06771236],\n",
      "       [0.04702478, 0.01879095, 0.04076404, 0.89342023]]), 'M_0_to_3': array([[0.55850753, 0.13612552, 0.2499751 , 0.05539185],\n",
      "       [0.01791204, 0.82605787, 0.05907209, 0.096958  ],\n",
      "       [0.04534628, 0.008074  , 0.85149918, 0.09508054],\n",
      "       [0.00646156, 0.06355415, 0.02348564, 0.90649866]]), 'M_0_to_1': array([[0.75152183, 0.09827146, 0.07355421, 0.0766525 ],\n",
      "       [0.04888819, 0.86735324, 0.02989229, 0.05386628],\n",
      "       [0.05446854, 0.02450495, 0.75018255, 0.17084396],\n",
      "       [0.12039713, 0.03979299, 0.05715314, 0.78265675]]), 'M_1_to_4': array([[0.82835309, 0.03976936, 0.05146899, 0.08040856],\n",
      "       [0.02327998, 0.80873654, 0.06043788, 0.10754561],\n",
      "       [0.11544022, 0.13895831, 0.71027209, 0.03532938],\n",
      "       [0.09988558, 0.08065349, 0.01737091, 0.80209001]]), 'M_1_to_5': array([[0.78296278, 0.06942125, 0.08171685, 0.06589912],\n",
      "       [0.02166725, 0.83743552, 0.01932756, 0.12156967],\n",
      "       [0.11182788, 0.03378373, 0.78484422, 0.06954417],\n",
      "       [0.11063295, 0.0881492 , 0.0495941 , 0.75162375]])}\n"
     ]
    }
   ],
   "source": [
    "# # save the dictionary to a file\n",
    "# np.save('data.npy', theoretical_matrices)\n",
    "# # load the dictionary from the file\n",
    "# loaded_dict = np.load('data.npy', allow_pickle=True).item()\n",
    "# # print the loaded dictionary\n",
    "# print(loaded_dict)"
   ]
  },
  {
   "cell_type": "code",
   "execution_count": 19,
   "metadata": {},
   "outputs": [
    {
     "name": "stdout",
     "output_type": "stream",
     "text": [
      "M_0_to_2\n",
      "Edge: (Clade(name='Int_0'), Clade(branch_length=1.0, name='Leaf_2'))\n",
      "Transition matrix:\n",
      " [[0.86753892 0.05213542 0.06946348 0.01086218]\n",
      " [0.08065343 0.85671968 0.04982893 0.01279796]\n",
      " [0.11219846 0.17464684 0.65461785 0.05853685]\n",
      " [0.02775028 0.08494961 0.04088151 0.8464186 ]]\n",
      "------------------------------------------------------------------------------------------\n",
      "M_0_to_3\n",
      "Edge: (Clade(name='Int_0'), Clade(branch_length=1.0, name='Leaf_3'))\n",
      "Transition matrix:\n",
      " [[0.75527498 0.04249873 0.00019955 0.20202674]\n",
      " [0.10446698 0.73349645 0.10777451 0.05426206]\n",
      " [0.009178   0.09167603 0.88105832 0.01808765]\n",
      " [0.10672648 0.08298123 0.01949473 0.79079756]]\n",
      "------------------------------------------------------------------------------------------\n",
      "M_0_to_1\n",
      "Edge: (Clade(name='Int_0'), Clade(branch_length=1.0, name='Int_1'))\n",
      "Transition matrix:\n",
      " [[0.69009493 0.15321495 0.12518281 0.03150731]\n",
      " [0.03390489 0.89612499 0.03748613 0.032484  ]\n",
      " [0.13612944 0.00355591 0.86031238 0.00000227]\n",
      " [0.13829849 0.07169377 0.04358193 0.74642581]]\n",
      "------------------------------------------------------------------------------------------\n",
      "M_1_to_4\n",
      "Edge: (Clade(branch_length=1.0, name='Int_1'), Clade(branch_length=1.0, name='Leaf_4'))\n",
      "Transition matrix:\n",
      " [[0.79787321 0.09123409 0.0748348  0.0360579 ]\n",
      " [0.1525167  0.62670853 0.12700414 0.09377063]\n",
      " [0.06182208 0.09423139 0.82703856 0.01690797]\n",
      " [0.09434814 0.05487633 0.01727208 0.83350345]]\n",
      "------------------------------------------------------------------------------------------\n",
      "M_1_to_5\n",
      "Edge: (Clade(branch_length=1.0, name='Int_1'), Clade(branch_length=1.0, name='Leaf_5'))\n",
      "Transition matrix:\n",
      " [[0.77670263 0.03884329 0.11981174 0.06464234]\n",
      " [0.07306013 0.6964252  0.14381485 0.08669983]\n",
      " [0.0001472  0.02174493 0.93060026 0.04750762]\n",
      " [0.01290462 0.10677068 0.06826479 0.81205991]]\n",
      "------------------------------------------------------------------------------------------\n",
      "Root distribution: [0.23508015 0.26506847 0.26101933 0.23983305]\n"
     ]
    }
   ],
   "source": [
    "# Check the estimated parameters:\n",
    "for i in params.items():\n",
    "    print(i[0])\n",
    "    print(\"Edge:\", i[1].edge)\n",
    "    print(\"Transition matrix:\\n\", i[1].transition_matrix)\n",
    "    print(\"---\"*30)\n",
    "\n",
    "print(\"Root distribution:\", root_distr)"
   ]
  },
  {
   "cell_type": "code",
   "execution_count": 20,
   "metadata": {},
   "outputs": [
    {
     "name": "stdout",
     "output_type": "stream",
     "text": [
      "Edge: (Clade(name='Int_0'), Clade(branch_length=1.0, name='Leaf_2'))\n",
      "Transition matrix difference:\n",
      " [[0.09960865 0.07093256 0.00498621 0.03366231]\n",
      " [0.01576357 0.02703813 0.00892483 0.03387688]\n",
      " [0.00533819 0.03058066 0.01301418 0.01222828]\n",
      " [0.00504287 0.04282721 0.00457214 0.05244223]]\n",
      "------------------------------------------------------------------------------------------\n",
      "Edge: (Clade(name='Int_0'), Clade(branch_length=1.0, name='Leaf_3'))\n",
      "Transition matrix difference:\n",
      " [[0.00386991 0.01431933 0.0324696  0.04291902]\n",
      " [0.03240956 0.00438465 0.00578344 0.03101077]\n",
      " [0.00129948 0.00595081 0.00836875 0.00111846]\n",
      " [0.00368219 0.0201782  0.01427531 0.03077132]]\n",
      "------------------------------------------------------------------------------------------\n",
      "Edge: (Clade(name='Int_0'), Clade(branch_length=1.0, name='Int_1'))\n",
      "Transition matrix difference:\n",
      " [[0.00043271 0.04586535 0.01971483 0.02571781]\n",
      " [0.04628465 0.03270525 0.01225697 0.00132243]\n",
      " [0.00405161 0.02596747 0.04979691 0.01977783]\n",
      " [0.05635943 0.0032355  0.00691523 0.06003916]]\n",
      "------------------------------------------------------------------------------------------\n",
      "Edge: (Clade(branch_length=1.0, name='Int_1'), Clade(branch_length=1.0, name='Leaf_4'))\n",
      "Transition matrix difference:\n",
      " [[0.02206907 0.00438435 0.02045318 0.00276846]\n",
      " [0.04114356 0.07985678 0.0152662  0.02344702]\n",
      " [0.01766089 0.02629588 0.04017144 0.00378534]\n",
      " [0.00126844 0.00706299 0.01874386 0.02707528]]\n",
      "------------------------------------------------------------------------------------------\n",
      "Edge: (Clade(branch_length=1.0, name='Int_1'), Clade(branch_length=1.0, name='Leaf_5'))\n",
      "Transition matrix difference:\n",
      " [[0.04539034 0.01368587 0.03621623 0.00451176]\n",
      " [0.00302602 0.00613968 0.01219578 0.00908212]\n",
      " [0.00442834 0.01538392 0.00158094 0.0213932 ]\n",
      " [0.02699704 0.00888034 0.00551462 0.03036276]]\n",
      "------------------------------------------------------------------------------------------\n"
     ]
    }
   ],
   "source": [
    "# Compute the matrix difference between the theoretical and estimated parameters\n",
    "for i in range(len(edges)):\n",
    "    print(\"Edge:\", edges[i].edge)\n",
    "    print(\"Transition matrix difference:\\n\", np.abs(edges[i].transition_matrix - params['M_' + str(edges[i].edge[0].name.split(\"_\")[1]) + '_to_' + str(edges[i].edge[1].name.split(\"_\")[1])].transition_matrix))\n",
    "    print(\"---\"*30)"
   ]
  },
  {
   "cell_type": "code",
   "execution_count": 6,
   "metadata": {},
   "outputs": [
    {
     "name": "stdout",
     "output_type": "stream",
     "text": [
      "Real pi\n",
      "[0.23336833 0.27158636 0.26171397 0.23333133]\n",
      "Real M\n",
      "M_0_to_2 [[0.9848614  0.00530315 0.00127573 0.00855971]\n",
      " [0.0019406  0.99203412 0.00298678 0.0030385 ]\n",
      " [0.00193211 0.00247408 0.99390706 0.00168675]\n",
      " [0.00402475 0.00540102 0.00135075 0.98922348]]\n",
      "M_0_to_3 [[9.83767658e-01 1.74880412e-03 5.24710070e-03 9.23643754e-03]\n",
      " [4.87150803e-03 9.91248799e-01 1.89543218e-03 1.98426126e-03]\n",
      " [5.83603882e-04 6.46418315e-04 9.97825577e-01 9.44401148e-04]\n",
      " [8.04965367e-03 2.62843766e-03 1.84299611e-03 9.87478913e-01]]\n",
      "M_0_to_1 [[9.81552639e-01 7.15526853e-04 1.37433239e-02 3.98850982e-03]\n",
      " [1.15721774e-03 9.97102971e-01 4.43019482e-04 1.29679175e-03]\n",
      " [1.57888651e-03 1.15319107e-03 9.92402091e-01 4.86583107e-03]\n",
      " [1.42061191e-04 8.82334509e-03 2.83936642e-03 9.88195227e-01]]\n",
      "M_1_to_4 [[9.88652140e-01 5.94560586e-03 4.55103350e-04 4.94715066e-03]\n",
      " [3.00178093e-03 9.90479588e-01 3.23285037e-03 3.28578074e-03]\n",
      " [1.32038405e-03 9.34063571e-03 9.84150778e-01 5.18820174e-03]\n",
      " [6.56145147e-04 1.36706475e-03 8.19829055e-04 9.97156961e-01]]\n",
      "M_1_to_5 [[9.86305443e-01 1.56928379e-03 2.68309635e-03 9.44217686e-03]\n",
      " [6.07299235e-04 9.92549563e-01 2.75414146e-03 4.08899679e-03]\n",
      " [2.78806420e-03 2.29926676e-03 9.92973640e-01 1.93902931e-03]\n",
      " [2.67295603e-03 3.07821579e-03 5.98238319e-03 9.88266445e-01]]\n",
      "Loglikelihood real parameters = -910.9315628819166\n",
      "------------------------------------------------------------------------------------------\n",
      "Estimated M\n",
      "M_0_to_2 [[9.84126492e-01 7.93650393e-03 1.78755606e-09 7.93700276e-03]\n",
      " [3.62192969e-39 9.92000000e-01 1.34621393e-55 7.99999995e-03]\n",
      " [9.82162814e-13 8.47457629e-03 9.91525424e-01 1.24099708e-31]\n",
      " [1.35601886e-16 1.52671829e-02 1.06647263e-17 9.84732817e-01]]\n",
      "M_0_to_3 [[9.92062995e-01 1.24852419e-19 3.33948274e-17 7.93700491e-03]\n",
      " [2.39159822e-22 1.00000000e+00 4.24288754e-30 1.15625562e-12]\n",
      " [1.69491507e-02 2.29954460e-16 9.83050849e-01 1.57721552e-33]\n",
      " [1.52671850e-02 5.29688532e-11 7.21111993e-18 9.84732815e-01]]\n",
      "M_0_to_1 [[9.92062997e-01 3.26435224e-11 7.93700266e-03 1.41812436e-12]\n",
      " [1.06899763e-10 1.00000000e+00 3.42192219e-11 4.93581704e-13]\n",
      " [2.65874996e-16 7.25968638e-10 9.99999999e-01 6.13957256e-18]\n",
      " [2.11252483e-09 7.69613946e-03 7.63311398e-03 9.84670744e-01]]\n",
      "M_1_to_4 [[9.91999996e-01 8.00000412e-03 2.88626572e-34 9.48706184e-20]\n",
      " [1.00637344e-22 1.00000000e+00 1.67240938e-18 3.34478705e-19]\n",
      " [8.33333333e-03 2.49999993e-02 9.66666667e-01 5.97442411e-10]\n",
      " [8.06356827e-30 7.68890478e-03 6.90328352e-11 9.92311095e-01]]\n",
      "M_1_to_5 [[9.91999996e-01 3.15356587e-24 1.20639384e-26 8.00000405e-03]\n",
      " [7.93599178e-03 9.76126998e-01 7.93599250e-03 8.00101762e-03]\n",
      " [4.20763777e-17 1.38122238e-18 1.00000000e+00 8.82671993e-16]\n",
      " [5.38018107e-37 1.09444911e-12 1.55048604e-02 9.84495140e-01]]\n",
      "Estimated l\n",
      "M_0_to_2 0.01191410175487906\n",
      "M_0_to_3 0.009989665831376367\n",
      "M_0_to_1 0.006032119242404022\n",
      "M_1_to_4 0.012066863057310894\n",
      "M_1_to_5 0.012029462493192172\n",
      "Estimated pi\n",
      "[0.25250514 0.250501   0.23647295 0.26252492]\n",
      "Loglikelihood:\n",
      "[-1686.06989984  -852.76693867  -821.15480346  -820.90373858\n",
      "  -820.90119601  -820.90115414]\n",
      "Niter\n",
      "5\n",
      "TExec\n",
      "0.2693309783935547\n"
     ]
    }
   ],
   "source": [
    "print(\"Real pi\")\n",
    "loaded_dict = np.load('./OUTPUTS/EM_a1_b1_500_random/real_root_distr.npy', allow_pickle=True)\n",
    "print(loaded_dict)\n",
    "print(\"Real M\")\n",
    "loaded_dict = np.load('./OUTPUTS/EM_a1_b1_500_random/real_matrices.npy', allow_pickle=True).item()\n",
    "for i in loaded_dict.items():\n",
    "    print(i[0], i[1])\n",
    "file = open(\"./OUTPUTS/EM_a1_b1_500_random/Loglikelihood_real_param.txt\", \"r\")\n",
    "a = file.read()\n",
    "file.close()\n",
    "print(\"Loglikelihood real parameters =\", a)\n",
    "print(\"---\"*30)\n",
    "print(\"Estimated M\")\n",
    "loaded_dict = np.load('./OUTPUTS/EM_a1_b1_500_random/RESULTS/repetition_50/M_estimation.npy', allow_pickle=True).item()\n",
    "for i in loaded_dict.items():\n",
    "    print(i[0], i[1])\n",
    "print(\"Estimated l\")\n",
    "loaded_dict = np.load('./OUTPUTS/EM_a1_b1_500_random/RESULTS/repetition_50/estimated_branch_lengths.npy', allow_pickle=True).item()\n",
    "for i in loaded_dict.items():\n",
    "    print(i[0], i[1])\n",
    "print(\"Estimated pi\")\n",
    "loaded_dict = np.load('./OUTPUTS/EM_a1_b1_500_random/RESULTS/repetition_50/root_estimation.npy', allow_pickle=True)\n",
    "print(loaded_dict)\n",
    "print(\"Loglikelihood:\")\n",
    "loaded_dict = np.load('./OUTPUTS/EM_a1_b1_500_random/RESULTS/repetition_5/loglikelihood.npy', allow_pickle=True)\n",
    "print(loaded_dict)\n",
    "print(\"Niter\")\n",
    "file = open(\"./OUTPUTS/EM_a1_b1_500_random/RESULTS/repetition_50/Niter.txt\", \"r\")\n",
    "a = file.read()\n",
    "file.close()\n",
    "print(a)\n",
    "print(\"TExec\")\n",
    "file = open(\"./OUTPUTS/EM_a1_b1_500_random/RESULTS/repetition_50/TExec.txt\", \"r\")\n",
    "a = file.read()\n",
    "file.close()\n",
    "print(a)"
   ]
  },
  {
   "cell_type": "code",
   "execution_count": 7,
   "metadata": {},
   "outputs": [
    {
     "data": {
      "text/plain": [
       "Text(0.5, 1.0, '\\\\TeX\\\\ is Number $\\\\displaystyle\\\\sum_{n=1}^\\\\infty\\\\frac{-e^{i\\\\pi}}{2^n}$!')"
      ]
     },
     "execution_count": 7,
     "metadata": {},
     "output_type": "execute_result"
    },
    {
     "data": {
      "image/png": "[encoded data removed]",
      "text/plain": [
       "<Figure size 600x400 with 1 Axes>"
      ]
     },
     "metadata": {},
     "output_type": "display_data"
    }
   ],
   "source": [
    "import numpy as np\n",
    "import matplotlib.pyplot as plt\n",
    "\n",
    "plt.rcParams['text.usetex'] = True\n",
    "\n",
    "\n",
    "t = np.linspace(0.0, 1.0, 100)\n",
    "s = np.cos(4 * np.pi * t) + 2\n",
    "\n",
    "fig, ax = plt.subplots(figsize=(6, 4), tight_layout=True)\n",
    "ax.plot(t, s)\n",
    "\n",
    "ax.set_xlabel(r'\\textbf{time (s)}')\n",
    "ax.set_ylabel('\\\\textit{Velocity (\\N{DEGREE SIGN}/sec)}', fontsize=16)\n",
    "ax.set_title(r'\\TeX\\ is Number $\\displaystyle\\sum_{n=1}^\\infty'\n",
    "             r'\\frac{-e^{i\\pi}}{2^n}$!', fontsize=16, color='r')"
   ]
  },
  {
   "cell_type": "code",
   "execution_count": 34,
   "metadata": {},
   "outputs": [
    {
     "data": {
      "text/plain": [
       "array([[0.46859345, 0.45895751, 0.49718821, 0.51949561, 0.46959713,\n",
       "        0.51892612, 0.73279716, 0.65655076, 0.52268771, 0.57658202,\n",
       "        0.56681433, 0.64850538, 0.5045442 , 0.62646894, 0.68675087,\n",
       "        0.63410837, 0.5776487 , 0.6240821 , 0.47543598, 0.68618513],\n",
       "       [0.39790859, 0.17867732, 0.21366946, 0.39143257, 0.30866203,\n",
       "        0.42363557, 0.18329555, 0.33096039, 0.30373377, 0.24149679,\n",
       "        0.29365228, 0.22496564, 0.26863621, 0.23484876, 0.2588794 ,\n",
       "        0.26888975, 0.26050767, 0.18150088, 0.22167341, 0.25037013],\n",
       "       [0.13349796, 0.36236517, 0.28914232, 0.08907183, 0.22174085,\n",
       "        0.05743831, 0.08390729, 0.01248884, 0.17357851, 0.18192119,\n",
       "        0.13953338, 0.12652898, 0.22681959, 0.13868229, 0.05436973,\n",
       "        0.09700188, 0.16184362, 0.19441702, 0.30289061, 0.06344473]])"
      ]
     },
     "execution_count": 34,
     "metadata": {},
     "output_type": "execute_result"
    }
   ],
   "source": [
    "s = np.random.dirichlet((10, 5, 3), 20).transpose()\n",
    "s"
   ]
  },
  {
   "cell_type": "code",
   "execution_count": 49,
   "metadata": {},
   "outputs": [
    {
     "data": {
      "image/png": "[encoded data removed]",
      "text/plain": [
       "<Figure size 600x400 with 1 Axes>"
      ]
     },
     "metadata": {},
     "output_type": "display_data"
    }
   ],
   "source": [
    "import matplotlib.pyplot as plt\n",
    "\n",
    "fig, ax = plt.subplots(figsize=(6, 4), tight_layout=True)\n",
    "ax.barh(range(20), s[0], color='r')\n",
    "ax.barh(range(20), s[1], left=s[0], color='b')\n",
    "ax.barh(range(20), s[2], left=s[0]+s[1], color='limegreen')\n",
    "ax.set_title(r'{\\Huge\\textbf{Lengths of strings}}', fontsize=16)\n",
    "ax.set_ylabel(r'Repetitions', fontsize=19)\n",
    "ax.set_yticklabels([])\n",
    "ax.set_yticks([])\n",
    "# Define a x-limit axis\n",
    "ax.set_xlim([0, 1])\n",
    "# Hide the right and top spines\n",
    "ax.spines[['right', 'top', 'left']].set_visible(False)"
   ]
  },
  {
   "cell_type": "code",
   "execution_count": 54,
   "metadata": {},
   "outputs": [
    {
     "name": "stdout",
     "output_type": "stream",
     "text": [
      "l=0.01, gamma = 249.3758\n",
      "l=0.15, gamma = 62.1739\n",
      "l=0.3, gamma = 42.3455\n",
      "l=0.45, gamma = 33.3024\n",
      "l=0.6, gamma = 27.7792\n",
      "l=0.75, gamma = 23.932\n"
     ]
    }
   ],
   "source": [
    "for l in [0.01, 0.15, 0.3, 0.45, 0.6, 0.75]:\n",
    "    print(f\"l={l}, gamma = {round((25*np.sqrt(l)*np.exp(-l/4))/(l),4)}\")"
   ]
  },
  {
   "cell_type": "code",
   "execution_count": null,
   "metadata": {},
   "outputs": [],
   "source": [
    " "
   ]
  }
 ],
 "metadata": {
  "kernelspec": {
   "display_name": "debugger",
   "language": "python",
   "name": "debugger"
  },
  "language_info": {
   "codemirror_mode": {
    "name": "ipython",
    "version": 3
   },
   "file_extension": ".py",
   "mimetype": "text/x-python",
   "name": "python",
   "nbconvert_exporter": "python",
   "pygments_lexer": "ipython3",
   "version": "3.9.10"
  },
  "orig_nbformat": 4,
  "vscode": {
   "interpreter": {
    "hash": "03f790eb89590da6bbc9dab944ceea1669c4a69ff2bd32047ab9c0f81f755bd1"
   }
  }
 },
 "nbformat": 4,
 "nbformat_minor": 2
}
