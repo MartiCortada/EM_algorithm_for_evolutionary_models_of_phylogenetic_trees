{
 "cells": [
  {
   "attachments": {},
   "cell_type": "markdown",
   "metadata": {},
   "source": [
    "# **Expectation-Maximization algorithm** (hidden model)\n",
    "### Author: Martí Cortada Garcia\n",
    "---"
   ]
  },
  {
   "cell_type": "code",
   "execution_count": 2,
   "metadata": {},
   "outputs": [],
   "source": [
    "# Import required libraries\n",
    "import numpy as np\n",
    "from Bio import SeqIO, Phylo\n",
    "from io import StringIO\n",
    "from collections import Counter, OrderedDict\n",
    "import itertools\n",
    "import pandas as pd\n",
    "import math\n",
    "import copy\n",
    "\n",
    "# Import required functions from modules we have programmed\n",
    "from data_simulation import simulate"
   ]
  },
  {
   "attachments": {},
   "cell_type": "markdown",
   "metadata": {},
   "source": [
    "### **Input:**\n",
    "We have a tree $T$ (where the root corresponds to the internal node codified as `Int_0`) and the alignments of the leaves."
   ]
  },
  {
   "cell_type": "code",
   "execution_count": 5,
   "metadata": {},
   "outputs": [
    {
     "data": {
      "image/png": "[encoded data removed]",
      "text/plain": [
       "<Figure size 640x480 with 1 Axes>"
      ]
     },
     "metadata": {},
     "output_type": "display_data"
    }
   ],
   "source": [
    "newick_tree = open(\"./newick.txt\", \"r\")\n",
    "newick = newick_tree.read()\n",
    "newick_tree.close()\n",
    "tree = Phylo.read(StringIO(newick), \"newick\")\n",
    "\n",
    "# Change nodes names\n",
    "for idx, clade in enumerate(tree.get_nonterminals()):\n",
    "    clade.name = \"Int_\" + str(idx) if idx > 0 else \"Int_0\" \n",
    "\n",
    "# Change leaves names\n",
    "for idx, clade in enumerate(tree.get_terminals()):\n",
    "    clade.name = \"Leaf_\" + clade.name \n",
    "\n",
    "Phylo.draw(tree)\n",
    "\n",
    "net = Phylo.to_networkx(tree) # to graph"
   ]
  },
  {
   "cell_type": "code",
   "execution_count": 13,
   "metadata": {},
   "outputs": [
    {
     "name": "stdout",
     "output_type": "stream",
     "text": [
      "Edge: (Clade(name='Int_0'), Clade(branch_length=1.0, name='Leaf_2'))\n",
      "Transition matrix: [[0.64642183 0.02803076 0.27483013 0.05071728]\n",
      " [0.03848122 0.7757021  0.10189982 0.08391686]\n",
      " [0.03184807 0.07934462 0.82109495 0.06771236]\n",
      " [0.04702478 0.01879095 0.04076404 0.89342023]]\n",
      "------------------------------------------------------------------------------------------\n",
      "Edge: (Clade(name='Int_0'), Clade(branch_length=1.0, name='Leaf_3'))\n",
      "Transition matrix: [[0.55850753 0.13612552 0.2499751  0.05539185]\n",
      " [0.01791204 0.82605787 0.05907209 0.096958  ]\n",
      " [0.04534628 0.008074   0.85149918 0.09508054]\n",
      " [0.00646156 0.06355415 0.02348564 0.90649866]]\n",
      "------------------------------------------------------------------------------------------\n",
      "Edge: (Clade(name='Int_0'), Clade(branch_length=1.0, name='Int_1'))\n",
      "Transition matrix: [[0.75152183 0.09827146 0.07355421 0.0766525 ]\n",
      " [0.04888819 0.86735324 0.02989229 0.05386628]\n",
      " [0.05446854 0.02450495 0.75018255 0.17084396]\n",
      " [0.12039713 0.03979299 0.05715314 0.78265675]]\n",
      "------------------------------------------------------------------------------------------\n",
      "Edge: (Clade(branch_length=1.0, name='Int_1'), Clade(branch_length=1.0, name='Leaf_4'))\n",
      "Transition matrix: [[0.82835309 0.03976936 0.05146899 0.08040856]\n",
      " [0.02327998 0.80873654 0.06043788 0.10754561]\n",
      " [0.11544022 0.13895831 0.71027209 0.03532938]\n",
      " [0.09988558 0.08065349 0.01737091 0.80209001]]\n",
      "------------------------------------------------------------------------------------------\n",
      "Edge: (Clade(branch_length=1.0, name='Int_1'), Clade(branch_length=1.0, name='Leaf_5'))\n",
      "Transition matrix: [[0.78296278 0.06942125 0.08171685 0.06589912]\n",
      " [0.02166725 0.83743552 0.01932756 0.12156967]\n",
      " [0.11182788 0.03378373 0.78484422 0.06954417]\n",
      " [0.11063295 0.0881492  0.0495941  0.75162375]]\n",
      "------------------------------------------------------------------------------------------\n",
      "Root distribution: [0.23195748 0.24737645 0.23524372 0.28542235]\n"
     ]
    },
    {
     "data": {
      "text/plain": [
       "0.6464218290229772"
      ]
     },
     "execution_count": 13,
     "metadata": {},
     "output_type": "execute_result"
    }
   ],
   "source": [
    "# Check the theoretical parameters:\n",
    "theoretical_matrices = dict()\n",
    "for i in range(len(edges)):\n",
    "    print(\"Edge:\", edges[i].edge)\n",
    "    u = edges[i].edge[0].name.split(\"_\")[1]\n",
    "    v = edges[i].edge[1].name.split(\"_\")[1]\n",
    "    matrix_name = \"M_\" + u + \"_to_\" + v\n",
    "    print(\"Transition matrix:\", edges[i].transition_matrix)\n",
    "    theoretical_matrices[matrix_name] = np.array(edges[i].transition_matrix)\n",
    "    print(\"---\"*30)\n",
    "\n",
    "print(\"Root distribution:\", node_distr['Int_0'])"
   ]
  },
  {
   "cell_type": "code",
   "execution_count": 18,
   "metadata": {},
   "outputs": [
    {
     "name": "stdout",
     "output_type": "stream",
     "text": [
      "{'M_0_to_2': array([[0.64642183, 0.02803076, 0.27483013, 0.05071728],\n",
      "       [0.03848122, 0.7757021 , 0.10189982, 0.08391686],\n",
      "       [0.03184807, 0.07934462, 0.82109495, 0.06771236],\n",
      "       [0.04702478, 0.01879095, 0.04076404, 0.89342023]]), 'M_0_to_3': array([[0.55850753, 0.13612552, 0.2499751 , 0.05539185],\n",
      "       [0.01791204, 0.82605787, 0.05907209, 0.096958  ],\n",
      "       [0.04534628, 0.008074  , 0.85149918, 0.09508054],\n",
      "       [0.00646156, 0.06355415, 0.02348564, 0.90649866]]), 'M_0_to_1': array([[0.75152183, 0.09827146, 0.07355421, 0.0766525 ],\n",
      "       [0.04888819, 0.86735324, 0.02989229, 0.05386628],\n",
      "       [0.05446854, 0.02450495, 0.75018255, 0.17084396],\n",
      "       [0.12039713, 0.03979299, 0.05715314, 0.78265675]]), 'M_1_to_4': array([[0.82835309, 0.03976936, 0.05146899, 0.08040856],\n",
      "       [0.02327998, 0.80873654, 0.06043788, 0.10754561],\n",
      "       [0.11544022, 0.13895831, 0.71027209, 0.03532938],\n",
      "       [0.09988558, 0.08065349, 0.01737091, 0.80209001]]), 'M_1_to_5': array([[0.78296278, 0.06942125, 0.08171685, 0.06589912],\n",
      "       [0.02166725, 0.83743552, 0.01932756, 0.12156967],\n",
      "       [0.11182788, 0.03378373, 0.78484422, 0.06954417],\n",
      "       [0.11063295, 0.0881492 , 0.0495941 , 0.75162375]])}\n"
     ]
    }
   ],
   "source": [
    "# # save the dictionary to a file\n",
    "# np.save('data.npy', theoretical_matrices)\n",
    "# # load the dictionary from the file\n",
    "# loaded_dict = np.load('data.npy', allow_pickle=True).item()\n",
    "# # print the loaded dictionary\n",
    "# print(loaded_dict)"
   ]
  },
  {
   "cell_type": "code",
   "execution_count": 19,
   "metadata": {},
   "outputs": [
    {
     "name": "stdout",
     "output_type": "stream",
     "text": [
      "M_0_to_2\n",
      "Edge: (Clade(name='Int_0'), Clade(branch_length=1.0, name='Leaf_2'))\n",
      "Transition matrix:\n",
      " [[0.86753892 0.05213542 0.06946348 0.01086218]\n",
      " [0.08065343 0.85671968 0.04982893 0.01279796]\n",
      " [0.11219846 0.17464684 0.65461785 0.05853685]\n",
      " [0.02775028 0.08494961 0.04088151 0.8464186 ]]\n",
      "------------------------------------------------------------------------------------------\n",
      "M_0_to_3\n",
      "Edge: (Clade(name='Int_0'), Clade(branch_length=1.0, name='Leaf_3'))\n",
      "Transition matrix:\n",
      " [[0.75527498 0.04249873 0.00019955 0.20202674]\n",
      " [0.10446698 0.73349645 0.10777451 0.05426206]\n",
      " [0.009178   0.09167603 0.88105832 0.01808765]\n",
      " [0.10672648 0.08298123 0.01949473 0.79079756]]\n",
      "------------------------------------------------------------------------------------------\n",
      "M_0_to_1\n",
      "Edge: (Clade(name='Int_0'), Clade(branch_length=1.0, name='Int_1'))\n",
      "Transition matrix:\n",
      " [[0.69009493 0.15321495 0.12518281 0.03150731]\n",
      " [0.03390489 0.89612499 0.03748613 0.032484  ]\n",
      " [0.13612944 0.00355591 0.86031238 0.00000227]\n",
      " [0.13829849 0.07169377 0.04358193 0.74642581]]\n",
      "------------------------------------------------------------------------------------------\n",
      "M_1_to_4\n",
      "Edge: (Clade(branch_length=1.0, name='Int_1'), Clade(branch_length=1.0, name='Leaf_4'))\n",
      "Transition matrix:\n",
      " [[0.79787321 0.09123409 0.0748348  0.0360579 ]\n",
      " [0.1525167  0.62670853 0.12700414 0.09377063]\n",
      " [0.06182208 0.09423139 0.82703856 0.01690797]\n",
      " [0.09434814 0.05487633 0.01727208 0.83350345]]\n",
      "------------------------------------------------------------------------------------------\n",
      "M_1_to_5\n",
      "Edge: (Clade(branch_length=1.0, name='Int_1'), Clade(branch_length=1.0, name='Leaf_5'))\n",
      "Transition matrix:\n",
      " [[0.77670263 0.03884329 0.11981174 0.06464234]\n",
      " [0.07306013 0.6964252  0.14381485 0.08669983]\n",
      " [0.0001472  0.02174493 0.93060026 0.04750762]\n",
      " [0.01290462 0.10677068 0.06826479 0.81205991]]\n",
      "------------------------------------------------------------------------------------------\n",
      "Root distribution: [0.23508015 0.26506847 0.26101933 0.23983305]\n"
     ]
    }
   ],
   "source": [
    "# Check the estimated parameters:\n",
    "for i in params.items():\n",
    "    print(i[0])\n",
    "    print(\"Edge:\", i[1].edge)\n",
    "    print(\"Transition matrix:\\n\", i[1].transition_matrix)\n",
    "    print(\"---\"*30)\n",
    "\n",
    "print(\"Root distribution:\", root_distr)"
   ]
  },
  {
   "cell_type": "code",
   "execution_count": 20,
   "metadata": {},
   "outputs": [
    {
     "name": "stdout",
     "output_type": "stream",
     "text": [
      "Edge: (Clade(name='Int_0'), Clade(branch_length=1.0, name='Leaf_2'))\n",
      "Transition matrix difference:\n",
      " [[0.09960865 0.07093256 0.00498621 0.03366231]\n",
      " [0.01576357 0.02703813 0.00892483 0.03387688]\n",
      " [0.00533819 0.03058066 0.01301418 0.01222828]\n",
      " [0.00504287 0.04282721 0.00457214 0.05244223]]\n",
      "------------------------------------------------------------------------------------------\n",
      "Edge: (Clade(name='Int_0'), Clade(branch_length=1.0, name='Leaf_3'))\n",
      "Transition matrix difference:\n",
      " [[0.00386991 0.01431933 0.0324696  0.04291902]\n",
      " [0.03240956 0.00438465 0.00578344 0.03101077]\n",
      " [0.00129948 0.00595081 0.00836875 0.00111846]\n",
      " [0.00368219 0.0201782  0.01427531 0.03077132]]\n",
      "------------------------------------------------------------------------------------------\n",
      "Edge: (Clade(name='Int_0'), Clade(branch_length=1.0, name='Int_1'))\n",
      "Transition matrix difference:\n",
      " [[0.00043271 0.04586535 0.01971483 0.02571781]\n",
      " [0.04628465 0.03270525 0.01225697 0.00132243]\n",
      " [0.00405161 0.02596747 0.04979691 0.01977783]\n",
      " [0.05635943 0.0032355  0.00691523 0.06003916]]\n",
      "------------------------------------------------------------------------------------------\n",
      "Edge: (Clade(branch_length=1.0, name='Int_1'), Clade(branch_length=1.0, name='Leaf_4'))\n",
      "Transition matrix difference:\n",
      " [[0.02206907 0.00438435 0.02045318 0.00276846]\n",
      " [0.04114356 0.07985678 0.0152662  0.02344702]\n",
      " [0.01766089 0.02629588 0.04017144 0.00378534]\n",
      " [0.00126844 0.00706299 0.01874386 0.02707528]]\n",
      "------------------------------------------------------------------------------------------\n",
      "Edge: (Clade(branch_length=1.0, name='Int_1'), Clade(branch_length=1.0, name='Leaf_5'))\n",
      "Transition matrix difference:\n",
      " [[0.04539034 0.01368587 0.03621623 0.00451176]\n",
      " [0.00302602 0.00613968 0.01219578 0.00908212]\n",
      " [0.00442834 0.01538392 0.00158094 0.0213932 ]\n",
      " [0.02699704 0.00888034 0.00551462 0.03036276]]\n",
      "------------------------------------------------------------------------------------------\n"
     ]
    }
   ],
   "source": [
    "# Compute the matrix difference between the theoretical and estimated parameters\n",
    "for i in range(len(edges)):\n",
    "    print(\"Edge:\", edges[i].edge)\n",
    "    print(\"Transition matrix difference:\\n\", np.abs(edges[i].transition_matrix - params['M_' + str(edges[i].edge[0].name.split(\"_\")[1]) + '_to_' + str(edges[i].edge[1].name.split(\"_\")[1])].transition_matrix))\n",
    "    print(\"---\"*30)"
   ]
  },
  {
   "cell_type": "code",
   "execution_count": 4,
   "metadata": {},
   "outputs": [
    {
     "name": "stdout",
     "output_type": "stream",
     "text": [
      "Real pi\n",
      "[0.23643608 0.27740572 0.27705804 0.20910016]\n",
      "Real M\n",
      "M_0_to_2 [[0.84811302 0.04298296 0.04065872 0.06824529]\n",
      " [0.01535557 0.87481022 0.07876818 0.03106603]\n",
      " [0.11061801 0.03341747 0.83788264 0.01808188]\n",
      " [0.02605464 0.01399166 0.05998988 0.89996383]]\n",
      "M_0_to_3 [[0.85883166 0.05941262 0.02302168 0.05873404]\n",
      " [0.07916513 0.84402815 0.04308851 0.03371821]\n",
      " [0.02362867 0.03734728 0.90503449 0.03398956]\n",
      " [0.08581257 0.01386706 0.04523279 0.85508757]]\n",
      "M_0_to_1 [[0.85494125 0.04110745 0.06368274 0.04026856]\n",
      " [0.04352732 0.85525083 0.05932488 0.04189697]\n",
      " [0.04144973 0.02252636 0.89946085 0.03656305]\n",
      " [0.012122   0.02948852 0.11783887 0.84055061]]\n",
      "M_1_to_4 [[0.80041397 0.07850893 0.10184575 0.01923136]\n",
      " [0.02424293 0.86911021 0.07789204 0.02875482]\n",
      " [0.02939345 0.07531174 0.87877241 0.01652239]\n",
      " [0.04422307 0.04364042 0.01126864 0.90086787]]\n",
      "M_1_to_5 [[0.91999015 0.00978574 0.01371082 0.05651329]\n",
      " [0.00646823 0.93242008 0.02179679 0.03931491]\n",
      " [0.02882363 0.08129496 0.85169119 0.03819022]\n",
      " [0.06331564 0.09405936 0.08275984 0.75986516]]\n",
      "Loglikelihood real parameters = -29515.49940581934\n",
      "------------------------------------------------------------------------------------------\n",
      "Estimated M\n",
      "M_0_to_2 [[0.77819619 0.0387206  0.04796163 0.13512158]\n",
      " [0.00463037 0.87359321 0.10246464 0.01931178]\n",
      " [0.08764052 0.05176865 0.82470755 0.03588329]\n",
      " [0.02689556 0.01254244 0.05723846 0.90332354]]\n",
      "M_0_to_3 [[7.81583936e-01 1.10749970e-01 4.44676566e-02 6.31984372e-02]\n",
      " [7.38711767e-02 8.65312834e-01 2.98457379e-02 3.09702512e-02]\n",
      " [1.28798945e-02 2.89780511e-02 9.43973843e-01 1.41682119e-02]\n",
      " [3.01160304e-02 1.15626943e-18 7.93923894e-02 8.90491580e-01]]\n",
      "M_0_to_1 [[8.94974437e-01 4.52483024e-02 3.63434487e-02 2.34338119e-02]\n",
      " [2.84417161e-02 8.74298940e-01 4.78196141e-02 4.94397303e-02]\n",
      " [4.01913445e-02 4.75725736e-15 9.13584608e-01 4.62240477e-02]\n",
      " [1.41597486e-02 4.87229846e-02 1.42891104e-01 7.94226163e-01]]\n",
      "M_1_to_4 [[7.95118680e-01 1.19569599e-01 8.53117211e-02 1.96052363e-28]\n",
      " [1.52662858e-02 8.74483720e-01 1.02122811e-01 8.12718299e-03]\n",
      " [7.52793471e-03 1.18181254e-01 8.43029428e-01 3.12613826e-02]\n",
      " [8.65940724e-16 1.21428514e-02 1.63902728e-02 9.71466876e-01]]\n",
      "M_1_to_5 [[9.31309277e-01 6.24653045e-09 4.60516825e-35 6.86907171e-02]\n",
      " [1.94886423e-20 9.45541233e-01 1.09693274e-02 4.34894392e-02]\n",
      " [4.91166581e-02 8.93002694e-02 8.19991774e-01 4.15912981e-02]\n",
      " [5.17047940e-02 1.16891892e-01 5.56573803e-02 7.75745933e-01]]\n",
      "Estimated l\n",
      "M_0_to_2 0.17613151869824614\n",
      "M_0_to_3 0.1443910850470993\n",
      "M_0_to_1 0.14362484035761616\n",
      "M_1_to_4 0.1403334506381684\n",
      "M_1_to_5 0.14767794667742204\n",
      "Estimated pi\n",
      "[0.23689496 0.29203683 0.2634345  0.20963771]\n",
      "Loglikelihood:\n",
      "[-34950.96456592 -30699.8342539  -29948.81591868 -29699.23905294\n",
      " -29586.83886391 -29543.54380746 -29528.06205183 -29521.30139048\n",
      " -29518.04547384 -29516.44473974 -29515.65108358 -29515.26158736\n",
      " -29515.0808879  -29515.01022361 -29514.99740118 -29515.01390057\n",
      " -29515.0438791  -29515.07856248 -29515.11321703 -29515.14544174\n",
      " -29515.17417637 -29515.19911614 -29515.22036462 -29515.23822894\n",
      " -29515.25310072 -29515.26538881 -29515.27548327 -29515.2837378\n",
      " -29515.29046313 -29515.29592637 -29515.30035368 -29515.30393433\n",
      " -29515.30682544 -29515.30915656 -29515.31103394 -29515.31254439\n",
      " -29515.31375857 -29515.31473387]\n",
      "Niter\n",
      "37\n",
      "TExec\n",
      "20.48803997039795\n"
     ]
    }
   ],
   "source": [
    "print(\"Real pi\")\n",
    "loaded_dict = np.load('./OUTPUTS/EM_a15_b15_500_random/real_root_distr.npy', allow_pickle=True)\n",
    "print(loaded_dict)\n",
    "print(\"Real M\")\n",
    "loaded_dict = np.load('./OUTPUTS/EM_a15_b15_500_random/real_matrices.npy', allow_pickle=True).item()\n",
    "for i in loaded_dict.items():\n",
    "    print(i[0], i[1])\n",
    "file = open(\"./OUTPUTS/EM_a15_b15_500_random/Loglikelihood_real_param.txt\", \"r\")\n",
    "a = file.read()\n",
    "file.close()\n",
    "print(\"Loglikelihood real parameters =\", a)\n",
    "print(\"---\"*30)\n",
    "print(\"Estimated M\")\n",
    "loaded_dict = np.load('./OUTPUTS/EM_a15_b15_500_random/RESULTS/repetition_2/M_estimation.npy', allow_pickle=True).item()\n",
    "for i in loaded_dict.items():\n",
    "    print(i[0], i[1])\n",
    "print(\"Estimated l\")\n",
    "loaded_dict = np.load('./OUTPUTS/EM_a15_b15_500_random/RESULTS/repetition_2/estimated_branch_lengths.npy', allow_pickle=True).item()\n",
    "for i in loaded_dict.items():\n",
    "    print(i[0], i[1])\n",
    "print(\"Estimated pi\")\n",
    "loaded_dict = np.load('./OUTPUTS/EM_a15_b15_500_random/RESULTS/repetition_2/root_estimation.npy', allow_pickle=True)\n",
    "print(loaded_dict)\n",
    "print(\"Loglikelihood:\")\n",
    "loaded_dict = np.load('./OUTPUTS/EM_a15_b15_500_random/RESULTS/repetition_2/loglikelihood.npy', allow_pickle=True)\n",
    "print(loaded_dict)\n",
    "print(\"Niter\")\n",
    "file = open(\"./OUTPUTS/EM_a15_b15_500_random/RESULTS/repetition_2/Niter.txt\", \"r\")\n",
    "a = file.read()\n",
    "file.close()\n",
    "print(a)\n",
    "print(\"TExec\")\n",
    "file = open(\"./OUTPUTS/EM_a15_b15_500_random/RESULTS/repetition_2/TExec.txt\", \"r\")\n",
    "a = file.read()\n",
    "file.close()\n",
    "print(a)"
   ]
  },
  {
   "cell_type": "code",
   "execution_count": null,
   "metadata": {},
   "outputs": [],
   "source": []
  }
 ],
 "metadata": {
  "kernelspec": {
   "display_name": "debugger",
   "language": "python",
   "name": "debugger"
  },
  "language_info": {
   "codemirror_mode": {
    "name": "ipython",
    "version": 3
   },
   "file_extension": ".py",
   "mimetype": "text/x-python",
   "name": "python",
   "nbconvert_exporter": "python",
   "pygments_lexer": "ipython3",
   "version": "3.9.10"
  },
  "orig_nbformat": 4,
  "vscode": {
   "interpreter": {
    "hash": "03f790eb89590da6bbc9dab944ceea1669c4a69ff2bd32047ab9c0f81f755bd1"
   }
  }
 },
 "nbformat": 4,
 "nbformat_minor": 2
}
